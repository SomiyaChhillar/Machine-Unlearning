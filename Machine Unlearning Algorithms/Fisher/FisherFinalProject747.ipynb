{
 "cells": [
  {
   "cell_type": "markdown",
   "metadata": {
    "id": "h4quxFG6vjeo"
   },
   "source": [
    "# **Fisher Unlearning Algorithm**"
   ]
  },
  {
   "cell_type": "markdown",
   "metadata": {},
   "source": [
    "# **Colab and Drive Setup**"
   ]
  },
  {
   "cell_type": "code",
   "execution_count": null,
   "metadata": {
    "id": "SUVtYx51esvF"
   },
   "outputs": [],
   "source": [
    "from google.colab import drive\n",
    "drive.mount(\"/content/gdrive\")"
   ]
  },
  {
   "cell_type": "code",
   "execution_count": null,
   "metadata": {
    "id": "8OjWCY7sdg0X"
   },
   "outputs": [],
   "source": [
    "import os\n",
    "os.chdir(\"/content/gdrive/My Drive/my-dl-assignment-google-drive-folder\")"
   ]
  },
  {
   "cell_type": "code",
   "execution_count": null,
   "metadata": {
    "id": "z9TjNAJdfG1g"
   },
   "outputs": [],
   "source": [
    "import os\n",
    "import numpy as np\n",
    "import torch\n",
    "import torch.nn as nn\n",
    "from sklearn.metrics import average_precision_score\n",
    "from PIL import Image, ImageDraw\n",
    "import matplotlib.pyplot as plt\n",
    "from torchvision import datasets, transforms\n",
    "from torch.utils.data import DataLoader, random_split\n",
    "from sklearn.metrics import accuracy_score, precision_score, recall_score, f1_score\n",
    "import torch.nn.functional as F\n",
    "import torch.optim as optim\n",
    "import random\n",
    "import gzip\n",
    "\n",
    "\n",
    "%matplotlib inline\n",
    "%load_ext autoreload\n",
    "%autoreload 2"
   ]
  },
  {
   "cell_type": "markdown",
   "metadata": {
    "id": "DaH4i5PPfkuT"
   },
   "source": [
    "# **Classifier Model Architecture**"
   ]
  },
  {
   "cell_type": "code",
   "execution_count": null,
   "metadata": {
    "id": "wGcXjznCfZQD"
   },
   "outputs": [],
   "source": [
    "NUM_CLASSES = 10\n",
    "\n",
    "class Classifier(nn.Module):\n",
    "    def __init__(self):\n",
    "        super().__init__()\n",
    "        # First layer should accept 3 channels of 227x227 images\n",
    "        self.fc1 = nn.Linear(3 * 227 * 227, 256)  # 3 channels * 227 * 227 pixels\n",
    "        self.fc2 = nn.Linear(256, 128)\n",
    "        self.fc3 = nn.Linear(128, 64)\n",
    "        self.fc4 = nn.Linear(64, 10)\n",
    "\n",
    "    def forward(self, x):\n",
    "        # Flatten the input tensor, now it will have shape [batch_size, 3 * 227 * 227]\n",
    "        # x = x.view(x.shape[0], -1)\n",
    "        x = x.view(x.size(0), -1)\n",
    "        x = F.relu(self.fc1(x))\n",
    "        x = F.relu(self.fc2(x))\n",
    "        x = F.relu(self.fc3(x))\n",
    "        x = F.log_softmax(self.fc4(x), dim=1)\n",
    "\n",
    "        return x"
   ]
  },
  {
   "cell_type": "markdown",
   "metadata": {
    "id": "Dw1GevjVgCEz"
   },
   "source": [
    "# **Dataset Import and Loading Data**"
   ]
  },
  {
   "cell_type": "code",
   "execution_count": null,
   "metadata": {
    "id": "v6VoOfprf_My"
   },
   "outputs": [],
   "source": [
    "# Setting up reproducibility\n",
    "torch.manual_seed(0)\n",
    "np.random.seed(0)\n",
    "random.seed(0)\n",
    "\n",
    "# Transformation for data\n",
    "transform = transforms.Compose([\n",
    "    transforms.Grayscale(num_output_channels=3),  # Convert grayscale to 3-channel RGB\n",
    "    transforms.Resize((227, 227)),  # Resize images to 227x227\n",
    "    transforms.ToTensor(),  # Convert images to PyTorch tensors\n",
    "    transforms.Normalize(mean=[0.5, 0.5, 0.5], std=[0.5, 0.5, 0.5])  # Normalize\n",
    "])"
   ]
  },
  {
   "cell_type": "code",
   "execution_count": null,
   "metadata": {
    "id": "wGDHtOWShYsO"
   },
   "outputs": [],
   "source": [
    "# Load full MNIST training and test datasets\n",
    "full_train_dataset = datasets.MNIST(root='./data', train=True, download=True, transform=transform)\n",
    "test_dataset = datasets.MNIST(root='./data', train=False, download=True, transform=transform)\n",
    "\n",
    "# Split full_train_dataset into train and validation sets\n",
    "train_size = int(0.8 * len(full_train_dataset))\n",
    "val_size = len(full_train_dataset) - train_size\n",
    "train_dataset, val_dataset = random_split(full_train_dataset, [train_size, val_size])"
   ]
  },
  {
   "cell_type": "code",
   "execution_count": null,
   "metadata": {
    "id": "3ggm5cfDhbYX"
   },
   "outputs": [],
   "source": [
    "# DataLoaders for train, validation, and test sets\n",
    "train_loader = DataLoader(train_dataset, batch_size=64, shuffle=True)\n",
    "val_loader = DataLoader(val_dataset, batch_size=1000, shuffle=False)\n",
    "test_loader = DataLoader(test_dataset, batch_size=1000, shuffle=False)"
   ]
  },
  {
   "cell_type": "markdown",
   "metadata": {
    "id": "lGIDIH0bhmIT"
   },
   "source": [
    "# **Visualizing the Data**\n",
    "\n"
   ]
  },
  {
   "cell_type": "code",
   "execution_count": null,
   "metadata": {},
   "outputs": [],
   "source": [
    "# Define MNIST classes\n",
    "MNIST_CLASSES = (\n",
    "    '0', '1', '2', '3', '4', '5', '6', '7', '8', '9'\n",
    ")"
   ]
  },
  {
   "cell_type": "code",
   "execution_count": null,
   "metadata": {},
   "outputs": [],
   "source": [
    "def load_mnist(path, kind='train'):\n",
    "    \"\"\"Load MNIST data from `path`.\"\"\"\n",
    "    labels_path = os.path.join(path, f'{kind}-labels-idx1-ubyte.gz')\n",
    "    images_path = os.path.join(path, f'{kind}-images-idx3-ubyte.gz')\n",
    "\n",
    "    with gzip.open(labels_path, 'rb') as lbpath:\n",
    "        labels = np.frombuffer(lbpath.read(), dtype=np.uint8, offset=8)\n",
    "\n",
    "    with gzip.open(images_path, 'rb') as imgpath:\n",
    "        images = np.frombuffer(imgpath.read(), dtype=np.uint8, offset=16).reshape(len(labels), 784)\n",
    "\n",
    "    return images, labels"
   ]
  },
  {
   "cell_type": "code",
   "execution_count": null,
   "metadata": {
    "id": "IyHPOb-xhtkF"
   },
   "outputs": [],
   "source": [
    "X_train, Y_train = load_mnist('./data/MNIST', kind='train')\n",
    "mask = list(range(len(train_dataset)))\n",
    "X_train = X_train[mask]\n",
    "\n",
    "for i in range(10):\n",
    "    idx = np.random.randint(0, len(train_dataset))\n",
    "    img, label = X_train[idx], Y_train[idx]\n",
    "    img = img.reshape((28, 28))\n",
    "    plt.figure(figsize = (2,2))\n",
    "    plt.title(f'{MNIST_CLASSES[label]}')\n",
    "    plt.imshow(img)"
   ]
  },
  {
   "cell_type": "markdown",
   "metadata": {
    "id": "BL9xjonziOnW"
   },
   "source": [
    "# **Training and Testing Functions**\n",
    "\n"
   ]
  },
  {
   "cell_type": "code",
   "execution_count": null,
   "metadata": {},
   "outputs": [],
   "source": [
    "# Device setup\n",
    "device = torch.device(\"cuda\" if torch.cuda.is_available() else \"cpu\")"
   ]
  },
  {
   "cell_type": "code",
   "execution_count": null,
   "metadata": {
    "id": "VD3RY99OiDzm"
   },
   "outputs": [],
   "source": [
    "def train_classifier(train_loader, classifier, criterion, optimizer):\n",
    "    classifier.train()\n",
    "    loss_ = 0.0\n",
    "    losses = []\n",
    "    losses_plot = []\n",
    "    for i, (images, labels) in enumerate(train_loader):\n",
    "\n",
    "        images, labels = images.to(device), labels.to(device)\n",
    "\n",
    "        optimizer.zero_grad()\n",
    "\n",
    "        # Forward pass\n",
    "        logits = classifier(images)\n",
    "\n",
    "        loss = criterion(logits, labels)\n",
    "        loss.backward()\n",
    "        optimizer.step()\n",
    "\n",
    "        losses.append(loss)\n",
    "        losses_plot.append(loss.detach().item())\n",
    "\n",
    "    return torch.stack(losses).mean().item(), losses_plot"
   ]
  },
  {
   "cell_type": "code",
   "execution_count": null,
   "metadata": {
    "id": "Fy2ANA12iaZP"
   },
   "outputs": [],
   "source": [
    "def test_classifier(test_loader, classifier, criterion, print_ind_classes=True):\n",
    "    classifier.eval()\n",
    "    losses = []\n",
    "    with torch.no_grad():\n",
    "        y_true = np.zeros((0))\n",
    "        y_score = np.zeros((0,10))\n",
    "        for i, (images, labels) in enumerate(test_loader):\n",
    "            images, labels = images.to(device), labels.to(device)\n",
    "            logits = classifier(images)\n",
    "            y_true = np.concatenate((y_true, labels.cpu().numpy()), axis=0)\n",
    "            y_score = np.concatenate((y_score, logits.cpu().numpy()), axis=0)\n",
    "            loss = criterion(logits, labels)\n",
    "            losses.append(loss.item())\n",
    "        aps = []\n",
    "\n",
    "        B = y_true.shape[0]\n",
    "        y_true_one_hot = np.zeros((B, 10))\n",
    "        y_true_one_hot[np.arange(B), y_true.astype(np.int16)] = 1\n",
    "\n",
    "        for i in range(10):\n",
    "            ap = average_precision_score(y_true_one_hot[:, i], y_score[:, i])\n",
    "            if print_ind_classes:\n",
    "                print(f'-------  Class: {i}     AP: {ap:>8.4f}  -------')\n",
    "            aps.append(ap)\n",
    "\n",
    "        mAP = np.mean(aps)\n",
    "        test_loss = np.mean(losses)\n",
    "        print('mAP: {0:.4f}'.format(mAP))\n",
    "        print('Avg loss: {}'.format(test_loss))\n",
    "\n",
    "    return mAP, test_loss, aps"
   ]
  },
  {
   "cell_type": "markdown",
   "metadata": {
    "id": "hYUe6ppwig65"
   },
   "source": [
    "# **Model Setup and Training Loop**\n",
    "\n"
   ]
  },
  {
   "cell_type": "code",
   "execution_count": null,
   "metadata": {
    "id": "F_5KcnD3idc9"
   },
   "outputs": [],
   "source": [
    "classifier = Classifier().to(device)\n",
    "# You can can use this function to reload a network you have already saved previously\n",
    "# classifier.load_state_dict(torch.load('./classifier.pth'))\n",
    "\n",
    "criterion = nn.CrossEntropyLoss().to(device)\n",
    "optimizer = torch.optim.Adam(classifier.parameters(), lr=0.001)\n"
   ]
  },
  {
   "cell_type": "code",
   "execution_count": null,
   "metadata": {
    "colab": {
     "base_uri": "https://localhost:8080/"
    },
    "id": "I77bP7JW7aRx",
    "outputId": "a8fd0f94-cd6a-40cb-fdde-2ffb937e408b"
   },
   "outputs": [
    {
     "name": "stdout",
     "output_type": "stream",
     "text": [
      "Starting epoch number 1\n",
      "Loss for Training on Epoch 1 is 0.7352168847024441\n",
      "-------  Class: 0     AP:   0.9913  -------\n",
      "-------  Class: 1     AP:   0.9903  -------\n",
      "-------  Class: 2     AP:   0.9565  -------\n",
      "-------  Class: 3     AP:   0.9598  -------\n",
      "-------  Class: 4     AP:   0.9798  -------\n",
      "-------  Class: 5     AP:   0.9332  -------\n",
      "-------  Class: 6     AP:   0.9871  -------\n",
      "-------  Class: 7     AP:   0.9773  -------\n",
      "-------  Class: 8     AP:   0.9382  -------\n",
      "-------  Class: 9     AP:   0.9565  -------\n",
      "mAP: 0.9670\n",
      "Avg loss: 0.31293721000353497\n",
      "Evaluating classifier\n",
      "Mean Precision Score for Testing on Epoch 1 is 0.9669940465419737\n",
      "Starting epoch number 2\n",
      "Loss for Training on Epoch 2 is 0.25230124421417716\n",
      "-------  Class: 0     AP:   0.9936  -------\n",
      "-------  Class: 1     AP:   0.9960  -------\n",
      "-------  Class: 2     AP:   0.9867  -------\n",
      "-------  Class: 3     AP:   0.9764  -------\n",
      "-------  Class: 4     AP:   0.9844  -------\n",
      "-------  Class: 5     AP:   0.9739  -------\n",
      "-------  Class: 6     AP:   0.9939  -------\n",
      "-------  Class: 7     AP:   0.9841  -------\n",
      "-------  Class: 8     AP:   0.9720  -------\n",
      "-------  Class: 9     AP:   0.9617  -------\n",
      "mAP: 0.9823\n",
      "Avg loss: 0.22350974256793657\n",
      "Evaluating classifier\n",
      "Mean Precision Score for Testing on Epoch 2 is 0.9822754495062153\n",
      "Starting epoch number 3\n",
      "Loss for Training on Epoch 3 is 0.19777546381453673\n",
      "-------  Class: 0     AP:   0.9958  -------\n",
      "-------  Class: 1     AP:   0.9965  -------\n",
      "-------  Class: 2     AP:   0.9847  -------\n",
      "-------  Class: 3     AP:   0.9820  -------\n",
      "-------  Class: 4     AP:   0.9913  -------\n",
      "-------  Class: 5     AP:   0.9796  -------\n",
      "-------  Class: 6     AP:   0.9915  -------\n",
      "-------  Class: 7     AP:   0.9876  -------\n",
      "-------  Class: 8     AP:   0.9687  -------\n",
      "-------  Class: 9     AP:   0.9768  -------\n",
      "mAP: 0.9855\n",
      "Avg loss: 0.19181720167398453\n",
      "Evaluating classifier\n",
      "Mean Precision Score for Testing on Epoch 3 is 0.985455426157882\n",
      "Starting epoch number 4\n",
      "Loss for Training on Epoch 4 is 0.17251545490697026\n",
      "-------  Class: 0     AP:   0.9950  -------\n",
      "-------  Class: 1     AP:   0.9974  -------\n",
      "-------  Class: 2     AP:   0.9808  -------\n",
      "-------  Class: 3     AP:   0.9836  -------\n",
      "-------  Class: 4     AP:   0.9817  -------\n",
      "-------  Class: 5     AP:   0.9822  -------\n",
      "-------  Class: 6     AP:   0.9942  -------\n",
      "-------  Class: 7     AP:   0.9845  -------\n",
      "-------  Class: 8     AP:   0.9824  -------\n",
      "-------  Class: 9     AP:   0.9743  -------\n",
      "mAP: 0.9856\n",
      "Avg loss: 0.2012508325278759\n",
      "Evaluating classifier\n",
      "Mean Precision Score for Testing on Epoch 4 is 0.9856035162911521\n",
      "Starting epoch number 5\n",
      "Loss for Training on Epoch 5 is 0.1550825621554007\n",
      "-------  Class: 0     AP:   0.9960  -------\n",
      "-------  Class: 1     AP:   0.9969  -------\n",
      "-------  Class: 2     AP:   0.9886  -------\n",
      "-------  Class: 3     AP:   0.9882  -------\n",
      "-------  Class: 4     AP:   0.9853  -------\n",
      "-------  Class: 5     AP:   0.9878  -------\n",
      "-------  Class: 6     AP:   0.9954  -------\n",
      "-------  Class: 7     AP:   0.9900  -------\n",
      "-------  Class: 8     AP:   0.9819  -------\n",
      "-------  Class: 9     AP:   0.9824  -------\n",
      "mAP: 0.9893\n",
      "Avg loss: 0.1575356461107731\n",
      "Evaluating classifier\n",
      "Mean Precision Score for Testing on Epoch 5 is 0.9892589601515851\n"
     ]
    }
   ],
   "source": [
    "# Training Loop\n",
    "NUM_EPOCHS = 5\n",
    "TEST_FREQUENCY = 1\n",
    "\n",
    "for epoch in range(1, NUM_EPOCHS + 1):\n",
    "    print(f\"Starting epoch number {epoch}\")\n",
    "    train_loss, losses = train_classifier(train_loader, classifier, criterion, optimizer)\n",
    "    print(f\"Loss for Training on Epoch {epoch} is {train_loss}\")\n",
    "    if epoch % TEST_FREQUENCY == 0:\n",
    "        mAP_val, val_loss, _ = test_classifier(val_loader, classifier, criterion)\n",
    "        print(\"Evaluating classifier\")\n",
    "        print(f\"Mean Precision Score for Testing on Epoch {epoch} is {mAP_val}\")\n"
   ]
  },
  {
   "cell_type": "code",
   "execution_count": null,
   "metadata": {
    "id": "IoBoFMiTinhl"
   },
   "outputs": [],
   "source": [
    "# Save the classifier network\n",
    "# Suggestion: you can save checkpoints of your network during training and reload them later\n",
    "torch.save(classifier.state_dict(), './classifier.pth')"
   ]
  },
  {
   "cell_type": "markdown",
   "metadata": {
    "id": "LL2K6U3um6f-"
   },
   "source": [
    "# **Testing Model**\n",
    "\n"
   ]
  },
  {
   "cell_type": "code",
   "execution_count": null,
   "metadata": {
    "colab": {
     "base_uri": "https://localhost:8080/"
    },
    "id": "A8gp1qcitW6G",
    "outputId": "4c709091-6b2b-4f70-8219-fd5a95b08fb9"
   },
   "outputs": [
    {
     "name": "stdout",
     "output_type": "stream",
     "text": [
      "-------  Class: 0     AP:   0.9950  -------\n",
      "-------  Class: 1     AP:   0.9967  -------\n",
      "-------  Class: 2     AP:   0.9691  -------\n",
      "-------  Class: 3     AP:   0.9802  -------\n",
      "-------  Class: 4     AP:   0.9716  -------\n",
      "-------  Class: 5     AP:   0.9818  -------\n",
      "-------  Class: 6     AP:   0.9908  -------\n",
      "-------  Class: 7     AP:   0.9864  -------\n",
      "-------  Class: 8     AP:   0.9816  -------\n",
      "-------  Class: 9     AP:   0.9663  -------\n",
      "mAP: 0.9819\n",
      "Avg loss: 0.22949393203831278\n"
     ]
    }
   ],
   "source": [
    "mAP_test, test_loss, test_aps = test_classifier(test_loader, classifier, criterion)"
   ]
  },
  {
   "cell_type": "markdown",
   "metadata": {
    "id": "P1ASZ0QjnTt9"
   },
   "source": [
    "# **Fisher Unlearning**\n",
    "\n"
   ]
  },
  {
   "cell_type": "code",
   "execution_count": null,
   "metadata": {
    "id": "EF871Ghx_jLF"
   },
   "outputs": [],
   "source": [
    "def compute_fisher_information_matrix(model, data_loader, loss_fn, device=\"cpu\"):\n",
    "    fisher_matrix = {}\n",
    "    for name, param in model.named_parameters():\n",
    "        fisher_matrix[name] = torch.zeros_like(param).to(device)\n",
    "\n",
    "    for data, labels in data_loader:\n",
    "        data, labels = data.to(device), labels.to(device)\n",
    "        model.zero_grad()\n",
    "        outputs = model(data)\n",
    "        loss = loss_fn(outputs, labels)\n",
    "        loss.backward()\n",
    "\n",
    "        for name, param in model.named_parameters():\n",
    "            fisher_matrix[name] += param.grad.data ** 2\n",
    "\n",
    "    # Normalize by dataset size\n",
    "    for name in fisher_matrix:\n",
    "        fisher_matrix[name] /= len(data_loader.dataset)\n",
    "\n",
    "    return fisher_matrix\n"
   ]
  },
  {
   "cell_type": "code",
   "execution_count": null,
   "metadata": {
    "colab": {
     "base_uri": "https://localhost:8080/"
    },
    "id": "5OUqt0T2BEpg",
    "outputId": "72e42e42-0bae-47ec-9a3a-107fd4e16a8b"
   },
   "outputs": [
    {
     "name": "stdout",
     "output_type": "stream",
     "text": [
      "{'fc1.weight': tensor([[4.6979e-09, 4.6979e-09, 4.6979e-09,  ..., 4.6979e-09, 4.6979e-09,\n",
      "         4.6979e-09],\n",
      "        [8.1011e-09, 8.1011e-09, 8.1011e-09,  ..., 8.1011e-09, 8.1011e-09,\n",
      "         8.1011e-09],\n",
      "        [2.1994e-09, 2.1994e-09, 2.1994e-09,  ..., 2.1994e-09, 2.1994e-09,\n",
      "         2.1994e-09],\n",
      "        ...,\n",
      "        [6.4026e-09, 6.4026e-09, 6.4026e-09,  ..., 6.4026e-09, 6.4026e-09,\n",
      "         6.4026e-09],\n",
      "        [6.4677e-09, 6.4677e-09, 6.4677e-09,  ..., 6.4677e-09, 6.4677e-09,\n",
      "         6.4677e-09],\n",
      "        [2.6324e-09, 2.6324e-09, 2.6324e-09,  ..., 2.6324e-09, 2.6324e-09,\n",
      "         2.6324e-09]], device='cuda:0'), 'fc1.bias': tensor([4.6979e-09, 8.1011e-09, 2.1994e-09, 1.6453e-09, 9.1212e-09, 9.5145e-09,\n",
      "        1.6085e-09, 8.5203e-09, 8.8354e-09, 5.9153e-09, 2.5318e-11, 1.1361e-09,\n",
      "        3.1468e-09, 2.1220e-09, 2.9577e-09, 8.5443e-10, 1.2545e-09, 1.2371e-09,\n",
      "        1.3767e-08, 1.0612e-08, 8.1301e-09, 6.6004e-09, 1.4916e-08, 9.7808e-10,\n",
      "        0.0000e+00, 6.8347e-09, 1.1219e-08, 1.6637e-09, 5.0097e-09, 2.5530e-11,\n",
      "        1.1554e-09, 6.4337e-12, 1.0055e-08, 1.8420e-08, 1.4023e-08, 7.2387e-09,\n",
      "        1.0108e-09, 8.7226e-09, 1.2316e-11, 4.9947e-09, 7.3293e-09, 5.9227e-09,\n",
      "        1.1441e-08, 5.6913e-09, 4.8979e-09, 3.9770e-09, 4.4491e-09, 2.0629e-09,\n",
      "        4.1585e-09, 5.2335e-09, 7.0969e-09, 4.4103e-09, 1.1779e-08, 7.3814e-09,\n",
      "        9.2624e-09, 7.1071e-09, 5.3157e-09, 3.5921e-09, 3.0161e-09, 8.6923e-11,\n",
      "        3.0389e-10, 3.5738e-09, 2.2522e-09, 7.2915e-10, 8.0576e-09, 2.0198e-09,\n",
      "        1.0522e-08, 5.6357e-09, 2.7492e-09, 0.0000e+00, 3.3209e-09, 5.8420e-10,\n",
      "        2.9467e-10, 5.4881e-09, 2.1869e-09, 5.7625e-09, 7.0373e-09, 6.3748e-09,\n",
      "        8.6143e-10, 3.5184e-11, 3.0856e-09, 4.7689e-09, 5.3440e-09, 1.2234e-10,\n",
      "        1.0384e-08, 7.2600e-09, 7.7512e-11, 5.9962e-09, 8.8163e-09, 2.7913e-09,\n",
      "        1.2859e-08, 2.0921e-09, 3.1181e-12, 1.8268e-08, 7.4896e-09, 4.8237e-11,\n",
      "        4.7433e-09, 4.9425e-11, 2.6934e-09, 2.5837e-10, 2.6103e-09, 2.8298e-09,\n",
      "        8.0377e-09, 1.0589e-08, 3.9937e-09, 1.7098e-09, 1.5306e-09, 3.6419e-10,\n",
      "        3.8563e-09, 7.7856e-10, 2.3244e-09, 4.3042e-09, 4.6429e-10, 6.2428e-09,\n",
      "        5.6531e-09, 4.6273e-11, 1.2722e-09, 5.4271e-09, 8.6881e-09, 4.7136e-09,\n",
      "        5.0599e-10, 1.3744e-09, 4.5812e-09, 2.6940e-09, 2.6306e-09, 3.0836e-09,\n",
      "        5.6021e-09, 8.1962e-09, 1.6072e-09, 1.0826e-08, 1.5672e-08, 3.5413e-09,\n",
      "        2.0447e-09, 2.4029e-09, 9.9649e-09, 5.1428e-09, 6.5056e-10, 1.2354e-08,\n",
      "        1.4139e-10, 4.9874e-09, 6.1746e-09, 3.3664e-10, 2.1201e-09, 1.4295e-10,\n",
      "        4.7433e-09, 2.6421e-10, 7.2900e-10, 4.5074e-11, 9.3116e-09, 1.8413e-08,\n",
      "        1.2470e-11, 4.7203e-09, 5.4412e-09, 1.9261e-09, 8.1336e-12, 9.3462e-09,\n",
      "        1.0695e-08, 1.7863e-09, 1.3783e-08, 4.0039e-09, 4.2811e-09, 4.2535e-09,\n",
      "        6.3901e-09, 7.0649e-09, 2.4136e-09, 5.2857e-09, 1.1891e-08, 7.6399e-10,\n",
      "        2.2569e-09, 7.5696e-09, 1.1912e-08, 6.4157e-09, 4.9944e-09, 3.9632e-09,\n",
      "        6.0863e-09, 1.0393e-08, 1.6488e-09, 1.8450e-10, 0.0000e+00, 7.5039e-12,\n",
      "        1.4430e-09, 4.3698e-09, 4.9765e-09, 5.8788e-09, 1.4688e-09, 6.2938e-10,\n",
      "        5.5384e-10, 4.8999e-10, 3.0562e-09, 6.2969e-10, 4.3273e-09, 8.8280e-09,\n",
      "        1.3910e-08, 6.4333e-09, 7.4789e-10, 1.7655e-10, 3.5763e-10, 1.3397e-10,\n",
      "        3.2857e-09, 7.1144e-10, 3.2377e-10, 1.0804e-08, 5.5448e-09, 1.6295e-08,\n",
      "        1.3103e-10, 1.3595e-08, 1.0966e-08, 1.0643e-08, 9.2175e-09, 0.0000e+00,\n",
      "        3.1241e-10, 4.7752e-09, 1.2473e-08, 2.8878e-08, 1.0287e-09, 8.4930e-10,\n",
      "        2.1659e-10, 6.2763e-09, 6.7509e-09, 4.3141e-09, 4.0795e-09, 8.2693e-09,\n",
      "        9.0211e-09, 2.0128e-09, 2.5443e-09, 5.2179e-09, 2.0351e-10, 4.0669e-09,\n",
      "        4.7161e-10, 1.4590e-09, 1.0342e-10, 8.3090e-09, 5.4946e-10, 1.5939e-09,\n",
      "        1.4925e-09, 7.1240e-11, 1.8981e-11, 3.5742e-09, 2.0867e-09, 1.3578e-09,\n",
      "        6.2101e-10, 8.2756e-09, 6.9606e-09, 9.0148e-09, 2.9756e-10, 3.2927e-11,\n",
      "        1.0174e-08, 1.3435e-09, 5.1649e-09, 1.7817e-08, 2.6704e-09, 2.0881e-09,\n",
      "        6.0750e-11, 6.4026e-09, 6.4677e-09, 2.6324e-09], device='cuda:0'), 'fc2.weight': tensor([[1.1655e-08, 6.1831e-08, 7.7158e-10,  ..., 1.1201e-08, 1.5747e-07,\n",
      "         2.5146e-09],\n",
      "        [2.5798e-09, 1.3495e-08, 1.6679e-10,  ..., 1.6029e-09, 1.2763e-08,\n",
      "         6.3412e-11],\n",
      "        [2.6036e-13, 1.2152e-11, 7.8880e-14,  ..., 2.9095e-12, 2.4460e-11,\n",
      "         2.7659e-14],\n",
      "        ...,\n",
      "        [5.3018e-09, 3.3099e-08, 2.6376e-10,  ..., 3.3876e-09, 4.3462e-08,\n",
      "         3.8421e-10],\n",
      "        [5.0189e-09, 3.0818e-08, 1.2394e-10,  ..., 1.4362e-09, 9.5226e-09,\n",
      "         2.0905e-11],\n",
      "        [0.0000e+00, 0.0000e+00, 0.0000e+00,  ..., 0.0000e+00, 0.0000e+00,\n",
      "         0.0000e+00]], device='cuda:0'), 'fc2.bias': tensor([1.1216e-07, 2.9360e-08, 2.5766e-11, 6.9547e-08, 2.5066e-09, 8.6519e-08,\n",
      "        4.0733e-08, 6.8057e-08, 8.8991e-08, 9.2791e-08, 1.1995e-08, 3.2175e-09,\n",
      "        4.4069e-10, 3.6569e-08, 7.5048e-10, 5.9583e-09, 2.4658e-10, 5.9087e-08,\n",
      "        3.5277e-08, 1.2419e-07, 8.4776e-11, 3.0315e-09, 2.3384e-08, 8.0926e-08,\n",
      "        7.1039e-11, 2.0691e-08, 2.5170e-08, 1.3597e-10, 7.5973e-08, 6.5589e-08,\n",
      "        5.7560e-09, 5.8723e-08, 6.4869e-08, 9.7249e-09, 3.5829e-08, 6.4741e-08,\n",
      "        1.4426e-08, 1.2968e-07, 5.9870e-08, 9.6448e-08, 6.5129e-08, 7.5447e-08,\n",
      "        9.8606e-09, 8.1356e-08, 1.2104e-07, 2.2968e-08, 8.7279e-10, 3.6071e-08,\n",
      "        4.0212e-08, 1.0772e-07, 4.0621e-08, 9.0146e-08, 3.9861e-10, 6.4823e-09,\n",
      "        2.1317e-07, 1.3928e-07, 1.1053e-09, 1.0441e-07, 3.6798e-11, 1.1702e-07,\n",
      "        3.7661e-08, 4.3901e-08, 6.8881e-08, 1.1181e-07, 8.6008e-08, 1.0910e-07,\n",
      "        1.3088e-09, 8.3346e-08, 1.7738e-08, 1.2139e-07, 6.5004e-09, 1.0529e-07,\n",
      "        9.8751e-08, 7.1869e-08, 8.1741e-08, 4.1154e-08, 3.9536e-08, 3.4591e-08,\n",
      "        4.2107e-08, 1.8458e-07, 1.3292e-10, 8.6820e-08, 5.8432e-08, 9.9076e-10,\n",
      "        5.9944e-09, 9.7056e-08, 3.8302e-09, 1.1142e-07, 1.1085e-09, 5.0775e-08,\n",
      "        5.7172e-08, 2.4814e-08, 1.9712e-09, 9.8499e-08, 2.8196e-08, 1.9156e-07,\n",
      "        6.5487e-09, 2.7227e-08, 4.3649e-09, 4.9663e-08, 8.4044e-08, 2.0427e-09,\n",
      "        8.4688e-08, 4.3143e-08, 1.9457e-09, 1.4341e-08, 9.7172e-08, 3.3469e-08,\n",
      "        9.8326e-08, 2.1615e-11, 8.5770e-09, 1.3754e-08, 1.6314e-12, 1.3377e-08,\n",
      "        7.2585e-08, 1.0844e-07, 4.6808e-08, 6.2855e-08, 1.2311e-07, 5.9323e-08,\n",
      "        8.5845e-11, 1.9210e-07, 4.6962e-08, 7.9571e-10, 4.8179e-08, 8.3706e-08,\n",
      "        6.2443e-08, 0.0000e+00], device='cuda:0'), 'fc3.weight': tensor([[1.1771e-07, 3.8507e-09, 8.0667e-13,  ..., 4.5611e-08, 8.0509e-10,\n",
      "         0.0000e+00],\n",
      "        [3.4869e-10, 8.6870e-11, 1.8711e-14,  ..., 7.2189e-11, 7.2981e-12,\n",
      "         0.0000e+00],\n",
      "        [3.0027e-08, 6.7218e-09, 3.7737e-13,  ..., 2.2417e-08, 4.6405e-10,\n",
      "         0.0000e+00],\n",
      "        ...,\n",
      "        [3.5389e-10, 6.5390e-11, 1.3742e-17,  ..., 4.1482e-11, 1.3585e-10,\n",
      "         0.0000e+00],\n",
      "        [3.9353e-10, 1.1956e-11, 3.7785e-15,  ..., 1.3232e-10, 2.4002e-11,\n",
      "         0.0000e+00],\n",
      "        [4.7110e-08, 1.7883e-08, 9.8226e-13,  ..., 4.5060e-08, 1.2589e-09,\n",
      "         0.0000e+00]], device='cuda:0'), 'fc3.bias': tensor([1.4750e-06, 8.6458e-09, 7.3115e-07, 4.7879e-08, 4.2266e-07, 9.7643e-08,\n",
      "        1.1212e-06, 1.0158e-10, 5.7738e-08, 1.1401e-09, 1.4364e-06, 1.3216e-06,\n",
      "        3.5701e-07, 9.7638e-07, 8.0550e-07, 6.1088e-07, 8.8505e-07, 9.9953e-07,\n",
      "        0.0000e+00, 3.5400e-11, 2.2914e-07, 5.3242e-07, 1.3915e-06, 6.0370e-07,\n",
      "        1.0316e-06, 1.0514e-09, 6.8698e-07, 3.9400e-09, 9.3726e-07, 2.4548e-06,\n",
      "        6.8386e-07, 8.0643e-07, 3.3619e-08, 1.7349e-06, 1.7405e-06, 5.1441e-07,\n",
      "        7.4382e-07, 2.4795e-07, 6.2418e-08, 2.2073e-09, 1.2506e-06, 1.0801e-06,\n",
      "        3.1983e-10, 1.6963e-06, 0.0000e+00, 1.2258e-07, 2.6573e-09, 3.2031e-07,\n",
      "        2.1223e-09, 4.6424e-07, 1.5027e-06, 1.2648e-07, 4.4902e-07, 3.3093e-10,\n",
      "        1.5927e-06, 8.7014e-07, 1.8244e-07, 4.3666e-07, 1.4711e-06, 2.0146e-07,\n",
      "        1.3210e-06, 1.5633e-08, 8.9013e-09, 1.1208e-06], device='cuda:0'), 'fc4.weight': tensor([[4.1601e-08, 1.9049e-11, 5.0995e-08, 5.2746e-10, 1.5169e-07, 1.6619e-09,\n",
      "         6.6674e-07, 1.5932e-15, 7.6093e-10, 1.9663e-11, 1.6227e-07, 2.7478e-08,\n",
      "         7.5659e-08, 7.7526e-09, 5.3431e-08, 1.1174e-07, 9.1393e-08, 4.3640e-08,\n",
      "         0.0000e+00, 1.7567e-14, 3.5216e-09, 2.8393e-07, 2.7962e-07, 1.6426e-07,\n",
      "         3.0172e-08, 1.6018e-10, 1.2510e-07, 8.0955e-13, 3.1479e-08, 1.7638e-07,\n",
      "         5.8271e-08, 1.2219e-07, 1.2406e-10, 2.9609e-07, 3.0792e-09, 5.7599e-09,\n",
      "         2.5067e-08, 4.7429e-08, 1.6044e-11, 3.7619e-11, 1.1846e-08, 7.0662e-08,\n",
      "         3.6911e-14, 7.6430e-08, 0.0000e+00, 1.9002e-09, 2.6719e-12, 1.1990e-09,\n",
      "         2.3888e-11, 6.0279e-09, 1.5645e-07, 1.1605e-09, 3.9390e-09, 5.4886e-12,\n",
      "         1.9715e-07, 2.7503e-08, 1.3539e-09, 1.4060e-08, 4.9098e-09, 2.1210e-09,\n",
      "         3.2828e-07, 1.7208e-11, 6.6754e-11, 7.4306e-07],\n",
      "        [7.4828e-09, 7.3707e-11, 3.2944e-09, 1.1575e-10, 2.1563e-07, 9.9230e-10,\n",
      "         7.5493e-07, 2.0413e-15, 1.6412e-10, 8.3495e-13, 1.9687e-07, 3.4680e-08,\n",
      "         2.4240e-08, 1.1639e-08, 1.7640e-08, 6.8925e-08, 8.1944e-09, 8.5725e-09,\n",
      "         0.0000e+00, 2.2795e-14, 1.9925e-09, 6.1095e-08, 1.1781e-07, 2.3957e-07,\n",
      "         4.5459e-08, 3.1273e-12, 5.2878e-08, 1.0207e-12, 3.4497e-08, 2.1792e-07,\n",
      "         1.2441e-07, 5.8973e-08, 6.8455e-11, 1.5424e-07, 2.0395e-08, 9.8395e-09,\n",
      "         2.0788e-08, 7.9176e-09, 2.0419e-11, 7.6238e-12, 1.2070e-08, 1.8572e-07,\n",
      "         4.8283e-14, 7.0989e-08, 0.0000e+00, 1.1831e-09, 2.2464e-12, 3.3031e-08,\n",
      "         9.9466e-13, 7.5407e-08, 1.1590e-07, 1.2737e-09, 5.1979e-09, 5.8366e-13,\n",
      "         1.9371e-07, 4.9971e-08, 1.7726e-09, 6.0359e-09, 1.2167e-08, 3.4696e-09,\n",
      "         6.3062e-07, 2.6458e-11, 9.9655e-12, 8.1875e-07],\n",
      "        [3.9009e-09, 2.6376e-10, 3.8519e-09, 3.7365e-10, 1.9093e-07, 5.5584e-09,\n",
      "         8.5300e-07, 1.6921e-15, 1.6449e-09, 1.7568e-11, 1.3883e-07, 1.9482e-08,\n",
      "         1.1788e-08, 7.9198e-09, 1.5790e-08, 4.4525e-08, 5.1588e-09, 1.1029e-08,\n",
      "         0.0000e+00, 1.8917e-14, 1.4008e-09, 4.9657e-08, 8.1799e-08, 2.2177e-07,\n",
      "         1.1849e-07, 1.0488e-11, 5.9330e-08, 1.4309e-11, 4.4642e-08, 3.4105e-07,\n",
      "         5.8145e-08, 2.5686e-08, 2.1570e-10, 1.5680e-07, 3.5013e-09, 1.2292e-08,\n",
      "         1.0553e-08, 6.8023e-09, 2.0717e-10, 1.5289e-11, 1.9140e-08, 9.2687e-08,\n",
      "         6.2063e-13, 1.7973e-07, 0.0000e+00, 9.8851e-10, 3.2706e-11, 3.0186e-09,\n",
      "         2.5590e-12, 1.0076e-08, 1.8657e-07, 3.2697e-09, 2.7980e-09, 1.5386e-12,\n",
      "         1.6798e-07, 2.9349e-08, 1.8326e-09, 3.6796e-09, 1.6849e-08, 1.8941e-08,\n",
      "         1.3767e-07, 4.5470e-10, 7.1119e-11, 5.9632e-07],\n",
      "        [1.8847e-08, 2.5240e-10, 4.7592e-09, 7.4142e-10, 1.9031e-07, 1.0841e-09,\n",
      "         6.2936e-07, 1.1307e-13, 2.5361e-10, 8.9226e-13, 1.8105e-07, 2.2397e-08,\n",
      "         2.4314e-08, 7.8430e-09, 3.6485e-08, 7.0795e-08, 6.9188e-09, 1.0793e-08,\n",
      "         0.0000e+00, 2.4913e-14, 1.7225e-09, 5.6732e-08, 9.4395e-08, 1.9158e-07,\n",
      "         3.6497e-08, 6.1072e-12, 1.0071e-07, 7.4060e-12, 8.8947e-08, 2.2231e-07,\n",
      "         1.2052e-07, 1.1526e-07, 2.8806e-10, 2.2304e-07, 3.4026e-09, 5.8814e-09,\n",
      "         1.0197e-07, 5.2953e-09, 2.3489e-11, 1.7736e-11, 1.4473e-08, 9.2463e-08,\n",
      "         5.2827e-14, 1.0161e-07, 0.0000e+00, 1.2295e-09, 6.7204e-12, 1.4345e-09,\n",
      "         1.2620e-11, 2.3759e-08, 1.5936e-07, 1.9007e-09, 3.6442e-09, 6.0635e-13,\n",
      "         2.1631e-07, 1.6391e-07, 2.0672e-09, 6.5100e-09, 1.3033e-08, 4.7891e-09,\n",
      "         1.7908e-07, 2.3613e-11, 6.7342e-11, 6.6368e-07],\n",
      "        [5.1479e-09, 3.9120e-11, 3.7009e-09, 1.1845e-10, 2.0378e-07, 1.5697e-09,\n",
      "         6.4853e-07, 1.9579e-15, 1.9171e-10, 9.9525e-12, 1.5201e-07, 2.3253e-08,\n",
      "         4.0880e-08, 1.8858e-08, 1.4931e-08, 4.4804e-08, 5.8640e-09, 2.6354e-08,\n",
      "         0.0000e+00, 3.1542e-14, 1.8258e-09, 6.6141e-08, 1.2321e-07, 2.0132e-07,\n",
      "         2.9613e-08, 5.0438e-12, 5.5667e-08, 3.4166e-12, 1.2837e-07, 2.2502e-07,\n",
      "         7.1085e-08, 3.3845e-08, 5.5943e-10, 2.1135e-07, 2.6895e-09, 6.6663e-09,\n",
      "         1.1890e-08, 7.8368e-09, 2.3912e-10, 5.5882e-11, 2.5143e-08, 1.0335e-07,\n",
      "         5.0068e-14, 8.6465e-08, 0.0000e+00, 1.6192e-09, 2.8428e-11, 1.2651e-09,\n",
      "         5.5524e-12, 9.8816e-09, 1.7025e-07, 1.2445e-09, 8.6677e-09, 5.8959e-13,\n",
      "         2.3438e-07, 2.9992e-08, 4.9298e-09, 3.1788e-08, 5.9271e-09, 2.7172e-09,\n",
      "         1.7959e-07, 7.1548e-11, 5.6368e-12, 6.4745e-07],\n",
      "        [8.5267e-09, 1.7138e-11, 3.6940e-09, 4.8016e-10, 1.5674e-07, 8.8980e-10,\n",
      "         5.3064e-07, 1.4345e-15, 1.3311e-10, 5.9990e-13, 1.5004e-07, 1.6932e-08,\n",
      "         8.6225e-09, 5.7773e-09, 1.0559e-08, 8.2038e-08, 4.6574e-09, 3.7784e-08,\n",
      "         0.0000e+00, 1.6907e-12, 1.8478e-09, 6.5297e-08, 7.4929e-08, 1.7053e-07,\n",
      "         3.1789e-08, 2.3764e-12, 5.8665e-08, 1.0913e-12, 3.9051e-08, 1.7589e-07,\n",
      "         5.1944e-08, 2.9820e-08, 3.2284e-10, 1.7248e-07, 2.5424e-09, 4.9030e-09,\n",
      "         9.9190e-09, 4.9784e-09, 2.3726e-11, 2.1761e-11, 8.2149e-09, 8.8173e-08,\n",
      "         4.2101e-13, 7.3382e-08, 0.0000e+00, 9.6819e-10, 1.5632e-12, 1.1428e-09,\n",
      "         1.3424e-11, 1.0886e-08, 1.1838e-07, 1.2219e-09, 2.5343e-09, 4.0980e-12,\n",
      "         1.6242e-07, 8.3780e-08, 2.2019e-09, 3.9856e-09, 5.8417e-09, 2.1217e-09,\n",
      "         1.7951e-07, 8.2290e-12, 6.0678e-11, 6.4505e-07],\n",
      "        [1.5146e-08, 3.8673e-11, 4.5864e-09, 7.6832e-11, 2.2563e-07, 7.8943e-09,\n",
      "         4.8413e-07, 1.4394e-15, 1.3709e-10, 9.8510e-12, 1.6390e-07, 1.5346e-08,\n",
      "         6.3048e-09, 2.5497e-08, 1.0528e-08, 5.6996e-08, 6.1445e-09, 1.9667e-08,\n",
      "         0.0000e+00, 1.6666e-14, 1.4000e-09, 5.3273e-08, 8.5021e-08, 2.4744e-07,\n",
      "         3.2764e-08, 6.5345e-12, 5.6393e-08, 1.2390e-11, 1.7645e-07, 2.0151e-07,\n",
      "         5.5608e-08, 2.1465e-08, 3.8746e-10, 3.1918e-07, 5.8394e-09, 6.4131e-09,\n",
      "         8.8964e-09, 5.6304e-09, 2.5201e-11, 2.3389e-10, 1.8409e-08, 7.9052e-08,\n",
      "         3.2840e-13, 6.9130e-08, 0.0000e+00, 1.5443e-09, 2.6078e-12, 1.2159e-09,\n",
      "         5.9721e-12, 6.4686e-09, 3.5380e-07, 8.7443e-10, 6.5207e-09, 3.0558e-11,\n",
      "         1.7911e-07, 2.2603e-08, 1.1979e-08, 4.8764e-09, 4.5548e-09, 4.0695e-09,\n",
      "         1.3594e-07, 1.0852e-10, 1.7787e-11, 7.9991e-07],\n",
      "        [4.7041e-09, 1.4784e-11, 7.1199e-09, 4.6005e-10, 2.8033e-07, 9.7861e-10,\n",
      "         8.1982e-07, 1.5365e-15, 1.1121e-09, 2.1303e-12, 4.5331e-07, 5.8979e-08,\n",
      "         1.9374e-08, 6.1131e-09, 1.0650e-08, 4.4634e-08, 6.1505e-09, 1.2753e-08,\n",
      "         0.0000e+00, 1.7831e-14, 4.1946e-08, 7.3184e-08, 8.1793e-08, 3.6739e-07,\n",
      "         2.7285e-08, 7.6353e-12, 1.3089e-07, 1.2389e-11, 3.2610e-08, 2.5580e-07,\n",
      "         9.3980e-07, 3.4271e-08, 5.3705e-11, 1.7559e-07, 2.6643e-09, 9.2807e-09,\n",
      "         1.5968e-08, 5.2604e-09, 3.0221e-10, 3.1052e-11, 1.2409e-08, 8.5230e-08,\n",
      "         3.8007e-14, 4.2830e-07, 0.0000e+00, 1.4168e-08, 1.6519e-11, 1.2013e-09,\n",
      "         3.5912e-12, 1.1802e-08, 1.1453e-07, 1.5442e-08, 3.3565e-08, 4.3198e-13,\n",
      "         1.1306e-06, 3.0032e-08, 2.8876e-09, 3.2835e-09, 3.4325e-08, 4.7084e-09,\n",
      "         2.2438e-07, 8.2842e-12, 4.1894e-12, 6.4142e-07],\n",
      "        [6.2407e-09, 6.0608e-11, 4.9223e-09, 5.1751e-10, 2.2832e-07, 1.7344e-09,\n",
      "         7.6532e-07, 2.3216e-15, 3.1784e-10, 9.6017e-13, 1.8690e-07, 6.6552e-08,\n",
      "         1.1800e-08, 1.4555e-08, 2.8159e-08, 5.6303e-08, 6.5631e-09, 1.1984e-08,\n",
      "         0.0000e+00, 2.7198e-14, 1.9805e-09, 8.5121e-08, 1.0340e-07, 2.3706e-07,\n",
      "         3.5094e-08, 2.0632e-11, 1.5718e-07, 1.7704e-12, 4.7649e-08, 2.4633e-07,\n",
      "         7.8153e-08, 1.0378e-07, 1.9191e-10, 2.2606e-07, 5.1778e-09, 5.8849e-09,\n",
      "         1.9091e-08, 5.6095e-09, 2.4169e-11, 7.2220e-11, 9.6976e-09, 1.3269e-07,\n",
      "         2.1724e-12, 1.1153e-07, 0.0000e+00, 1.7931e-09, 9.9894e-12, 1.4955e-09,\n",
      "         2.6879e-12, 7.6567e-09, 1.7360e-07, 2.0864e-09, 4.2787e-09, 1.7125e-12,\n",
      "         2.4782e-07, 3.5536e-08, 1.9476e-09, 4.2352e-09, 6.7886e-09, 2.8894e-09,\n",
      "         2.5105e-07, 1.8841e-11, 5.6959e-11, 7.8347e-07],\n",
      "        [5.3063e-09, 1.5761e-11, 3.5434e-09, 1.0698e-10, 2.0421e-07, 1.2592e-09,\n",
      "         6.5211e-07, 2.9379e-14, 3.5147e-10, 1.7237e-12, 1.6553e-07, 3.4723e-08,\n",
      "         1.4301e-08, 8.4241e-09, 1.9779e-08, 5.2232e-08, 6.0589e-09, 8.6526e-09,\n",
      "         0.0000e+00, 2.0296e-14, 1.9131e-09, 6.2688e-08, 7.7998e-08, 1.6361e-07,\n",
      "         2.9215e-08, 1.2718e-11, 4.8037e-08, 2.1592e-11, 4.3742e-08, 2.4455e-07,\n",
      "         1.2142e-07, 3.5500e-08, 1.2354e-10, 1.7884e-07, 2.3539e-09, 6.3058e-09,\n",
      "         1.0291e-08, 3.6617e-09, 1.8395e-10, 1.3615e-11, 8.6264e-09, 7.1654e-08,\n",
      "         4.1635e-14, 1.0041e-07, 0.0000e+00, 1.5383e-09, 5.1649e-11, 1.2495e-09,\n",
      "         1.6100e-12, 9.9830e-09, 1.1437e-07, 1.6814e-09, 2.4920e-09, 4.8171e-13,\n",
      "         3.5544e-07, 4.2710e-08, 3.8377e-09, 3.1947e-09, 8.1652e-09, 2.4155e-09,\n",
      "         1.4504e-07, 1.2474e-11, 4.6205e-12, 5.5343e-07]], device='cuda:0'), 'fc4.bias': tensor([2.2093e-05, 2.2755e-05, 2.1132e-05, 2.2494e-05, 2.2498e-05, 1.9489e-05,\n",
      "        2.2117e-05, 2.6423e-05, 2.6188e-05, 2.1958e-05], device='cuda:0')}\n"
     ]
    }
   ],
   "source": [
    "loss_fn = nn.CrossEntropyLoss()\n",
    "fim = compute_fisher_information_matrix(classifier, train_loader, loss_fn, device=device)\n",
    "print(fim)"
   ]
  },
  {
   "cell_type": "code",
   "execution_count": null,
   "metadata": {
    "id": "le8SVhv2qdVT"
   },
   "outputs": [],
   "source": [
    "subset_to_unlearn = torch.utils.data.Subset(train_dataset, list(range(10000)))  # Select the first 10000 examples to unlearn\n",
    "unlearn_loader = DataLoader(subset_to_unlearn, batch_size=10, shuffle=False)"
   ]
  },
  {
   "cell_type": "code",
   "execution_count": null,
   "metadata": {
    "id": "7UF7HXzoaNDK"
   },
   "outputs": [],
   "source": [
    "def fisher_unlearning(model, fim, data_to_unlearn, loss_fn, sigma=0, device=\"cpu\"):\n",
    "    \"\"\"\n",
    "    Applies Fisher unlearning as per Golatkar et al. (2019) to all Fisher Information values.\n",
    "\n",
    "    Arguments:\n",
    "    - model: The trained model to be unlearned.\n",
    "    - fim: Fisher Information matrix for each model parameter.\n",
    "    - data_to_unlearn: The data subset to be unlearned.\n",
    "    - loss_fn: The loss function used to compute the gradients.\n",
    "    - sigma: Noise scaling parameter.\n",
    "    - device: Device to use for computation (e.g., 'cpu' or 'cuda').\n",
    "\n",
    "    Returns:\n",
    "    - Updated model after unlearning.\n",
    "    \"\"\"\n",
    "    model.to(device)  # Ensure model is on the correct device\n",
    "    model.train()  # Set the model to training mode\n",
    "    optimizer = optim.SGD(model.parameters(), lr=0.01)  # Define an optimizer\n",
    "\n",
    "    # Iterate over data to unlearn\n",
    "    for data, labels in data_to_unlearn:\n",
    "        data, labels = data.to(device), labels.to(device)  # Move data and labels to the correct device\n",
    "        optimizer.zero_grad()  # Zero the gradients\n",
    "\n",
    "        outputs = model(data)  # Get model output\n",
    "        loss = loss_fn(outputs, labels)  # Compute loss\n",
    "        loss.backward()  # Backpropagate the loss\n",
    "\n",
    "        # Loop over model parameters\n",
    "        for name, param in model.named_parameters():\n",
    "            if param.grad is not None:  # Ensure there are gradients to work with\n",
    "                fim_values = fim[name]  # Get Fisher Information values for the current parameter\n",
    "\n",
    "                # Adjust all parameters using the inverse of the Fisher Information values\n",
    "                fim_inv = 1.0 / (fim_values + 1e-6)  # Add small value for numerical stability\n",
    "                adjustment = fim_inv * param.grad.data  # Compute the adjustment\n",
    "                param.data -= adjustment  # Apply the adjustment to the parameter\n",
    "\n",
    "                # Optionally add noise if sigma > 0\n",
    "                if sigma > 0:\n",
    "                    noise = sigma * torch.randn_like(param.data).to(device)\n",
    "                    param.data += fim_inv * noise  # Add noise scaled by Fisher Information\n",
    "\n",
    "    # Return the updated model after unlearning\n",
    "    return model\n"
   ]
  },
  {
   "cell_type": "code",
   "execution_count": null,
   "metadata": {
    "id": "p7qYj4Ukah2r"
   },
   "outputs": [],
   "source": [
    "unlearned_model = fisher_unlearning(classifier, fim, unlearn_loader, loss_fn, sigma=0.1, device=device)\n",
    "unlearned_model.to(device)"
   ]
  },
  {
   "cell_type": "code",
   "execution_count": null,
   "metadata": {
    "id": "msCVtAXRbG3W"
   },
   "outputs": [],
   "source": [
    "# File path to save the model\n",
    "# Save only the model's state dictionary (recommended)\n",
    "torch.save(unlearned_model.state_dict(), \"./unlearn_classifier.pth\")"
   ]
  },
  {
   "cell_type": "markdown",
   "metadata": {
    "id": "_xcS30tebtNO"
   },
   "source": [
    "# **Evaluation of Unlearning**\n",
    "\n"
   ]
  },
  {
   "cell_type": "code",
   "execution_count": null,
   "metadata": {
    "id": "z4U626mPcmFp"
   },
   "outputs": [],
   "source": [
    "\n",
    "# Evaluation Function (Ensuring consistency)\n",
    "def evaluate_models(model, data_loader, device=\"cpu\"):\n",
    "    model.to(device)  # Ensure model is on the correct device\n",
    "    model.eval()\n",
    "    all_preds = []\n",
    "    all_labels = []\n",
    "    with torch.no_grad():\n",
    "        for data, labels in data_loader:\n",
    "            data, labels = data.to(device), labels.to(device)  # Ensure data and labels are on the same device\n",
    "            outputs = model(data)\n",
    "            _, preds = torch.max(outputs, 1)\n",
    "            all_preds.extend(preds.cpu().numpy())  # Move predictions to CPU for evaluation\n",
    "            all_labels.extend(labels.cpu().numpy())  # Move labels to CPU for evaluation\n",
    "    accuracy = accuracy_score(all_labels, all_preds)\n",
    "    print(f\"Accuracy: {accuracy:.4f}\")\n",
    "    return accuracy"
   ]
  },
  {
   "cell_type": "code",
   "execution_count": null,
   "metadata": {
    "colab": {
     "base_uri": "https://localhost:8080/"
    },
    "id": "5uXcxoGUf_dR",
    "outputId": "013d6626-4f58-4665-a360-6c4e0d74b391"
   },
   "outputs": [
    {
     "name": "stdout",
     "output_type": "stream",
     "text": [
      "Evaluating the unlearning model...\n",
      "Accuracy: 0.0958\n"
     ]
    }
   ],
   "source": [
    "# Evaluate the unlearning model\n",
    "print(\"Evaluating the unlearning model...\")\n",
    "metrics = evaluate_models(unlearned_model, test_loader, device=device)"
   ]
  },
  {
   "cell_type": "code",
   "execution_count": null,
   "metadata": {
    "id": "cOfgpy2ldX7I"
   },
   "outputs": [],
   "source": [
    "model_untrained = Classifier()\n",
    "model_untrained.to(device)\n",
    "\n",
    "# Set the model to evaluation mode\n",
    "model_untrained.eval()"
   ]
  },
  {
   "cell_type": "code",
   "execution_count": null,
   "metadata": {
    "colab": {
     "base_uri": "https://localhost:8080/"
    },
    "id": "sFl8KvrtNeMF",
    "outputId": "df449796-24bc-48f1-debd-10ac491401af"
   },
   "outputs": [
    {
     "name": "stdout",
     "output_type": "stream",
     "text": [
      "Evaluating the Untrained model...\n",
      "Accuracy: 0.1021\n"
     ]
    }
   ],
   "source": [
    "print(\"Evaluating the Untrained model...\")\n",
    "metrics = evaluate_models(model_untrained, test_loader, device=device)"
   ]
  },
  {
   "cell_type": "code",
   "execution_count": null,
   "metadata": {
    "colab": {
     "base_uri": "https://localhost:8080/"
    },
    "id": "gWmTOlPJNdyD",
    "outputId": "29d69905-388b-47ac-db10-78f8babf3de1"
   },
   "outputs": [
    {
     "name": "stdout",
     "output_type": "stream",
     "text": [
      "Evaluating the Trained model...\n",
      "Accuracy: 0.9295\n"
     ]
    }
   ],
   "source": [
    "# Evaluate the trained and finedtuned model\n",
    "print(\"Evaluating the Trained model...\")\n",
    "metrics = evaluate_models(classifier, test_loader, device=device)"
   ]
  },
  {
   "cell_type": "markdown",
   "metadata": {
    "id": "vqWHPIcGe9CI"
   },
   "source": [
    "# **Naive Retraining**\n",
    "\n"
   ]
  },
  {
   "cell_type": "code",
   "execution_count": null,
   "metadata": {
    "id": "6fXuvsYBmwmT"
   },
   "outputs": [],
   "source": [
    " # Define the indices for the remaining data\n",
    "remaining_indices = list(range(10000, len(train_dataset)))  # Exclude the first 10000 examples\n",
    "remaining_dataset = torch.utils.data.Subset(train_dataset, remaining_indices)\n",
    "\n",
    "# Create a DataLoader for the remaining dataset\n",
    "remaining_loader = DataLoader(remaining_dataset, batch_size=64, shuffle=True)"
   ]
  },
  {
   "cell_type": "code",
   "execution_count": null,
   "metadata": {
    "colab": {
     "base_uri": "https://localhost:8080/"
    },
    "id": "0dpxAtQCtW6G",
    "outputId": "d77bbf3a-3bfa-42c2-b244-3dec7e141b55"
   },
   "outputs": [
    {
     "name": "stdout",
     "output_type": "stream",
     "text": [
      "Starting epoch number 1\n",
      "Loss for Training on Epoch 1 is 0.5358046293258667\n",
      "-------  Class: 0     AP:   0.9920  -------\n",
      "-------  Class: 1     AP:   0.9947  -------\n",
      "-------  Class: 2     AP:   0.9768  -------\n",
      "-------  Class: 3     AP:   0.9695  -------\n",
      "-------  Class: 4     AP:   0.9807  -------\n",
      "-------  Class: 5     AP:   0.9617  -------\n",
      "-------  Class: 6     AP:   0.9812  -------\n",
      "-------  Class: 7     AP:   0.9886  -------\n",
      "-------  Class: 8     AP:   0.9584  -------\n",
      "-------  Class: 9     AP:   0.9651  -------\n",
      "mAP: 0.9769\n",
      "Avg loss: 0.2567658106564195\n",
      "Evaluating classifier\n",
      "Mean Precision Score for Testing on Epoch 1 is 0.9768652356354369\n",
      "Starting epoch number 2\n",
      "Loss for Training on Epoch 2 is 0.2775103747844696\n",
      "-------  Class: 0     AP:   0.9934  -------\n",
      "-------  Class: 1     AP:   0.9961  -------\n",
      "-------  Class: 2     AP:   0.9812  -------\n",
      "-------  Class: 3     AP:   0.9811  -------\n",
      "-------  Class: 4     AP:   0.9825  -------\n",
      "-------  Class: 5     AP:   0.9758  -------\n",
      "-------  Class: 6     AP:   0.9902  -------\n",
      "-------  Class: 7     AP:   0.9890  -------\n",
      "-------  Class: 8     AP:   0.9765  -------\n",
      "-------  Class: 9     AP:   0.9463  -------\n",
      "mAP: 0.9812\n",
      "Avg loss: 0.21800469509235518\n",
      "Evaluating classifier\n",
      "Mean Precision Score for Testing on Epoch 2 is 0.9812286860270445\n",
      "Starting epoch number 3\n",
      "Loss for Training on Epoch 3 is 0.23753248155117035\n",
      "-------  Class: 0     AP:   0.9967  -------\n",
      "-------  Class: 1     AP:   0.9951  -------\n",
      "-------  Class: 2     AP:   0.9847  -------\n",
      "-------  Class: 3     AP:   0.9843  -------\n",
      "-------  Class: 4     AP:   0.9855  -------\n",
      "-------  Class: 5     AP:   0.9718  -------\n",
      "-------  Class: 6     AP:   0.9944  -------\n",
      "-------  Class: 7     AP:   0.9927  -------\n",
      "-------  Class: 8     AP:   0.9836  -------\n",
      "-------  Class: 9     AP:   0.9674  -------\n",
      "mAP: 0.9856\n",
      "Avg loss: 0.1935210119589774\n",
      "Evaluating classifier\n",
      "Mean Precision Score for Testing on Epoch 3 is 0.9856175736029279\n",
      "Starting epoch number 4\n",
      "Loss for Training on Epoch 4 is 0.21790970861911774\n",
      "-------  Class: 0     AP:   0.9960  -------\n",
      "-------  Class: 1     AP:   0.9974  -------\n",
      "-------  Class: 2     AP:   0.9862  -------\n",
      "-------  Class: 3     AP:   0.9837  -------\n",
      "-------  Class: 4     AP:   0.9864  -------\n",
      "-------  Class: 5     AP:   0.9723  -------\n",
      "-------  Class: 6     AP:   0.9942  -------\n",
      "-------  Class: 7     AP:   0.9902  -------\n",
      "-------  Class: 8     AP:   0.9826  -------\n",
      "-------  Class: 9     AP:   0.9715  -------\n",
      "mAP: 0.9861\n",
      "Avg loss: 0.17983264254550307\n",
      "Evaluating classifier\n",
      "Mean Precision Score for Testing on Epoch 4 is 0.9860507039371618\n",
      "Starting epoch number 5\n",
      "Loss for Training on Epoch 5 is 0.1880766898393631\n",
      "-------  Class: 0     AP:   0.9941  -------\n",
      "-------  Class: 1     AP:   0.9967  -------\n",
      "-------  Class: 2     AP:   0.9814  -------\n",
      "-------  Class: 3     AP:   0.9834  -------\n",
      "-------  Class: 4     AP:   0.9777  -------\n",
      "-------  Class: 5     AP:   0.9770  -------\n",
      "-------  Class: 6     AP:   0.9927  -------\n",
      "-------  Class: 7     AP:   0.9896  -------\n",
      "-------  Class: 8     AP:   0.9843  -------\n",
      "-------  Class: 9     AP:   0.9650  -------\n",
      "mAP: 0.9842\n",
      "Avg loss: 0.21170850020227597\n",
      "Evaluating classifier\n",
      "Mean Precision Score for Testing on Epoch 5 is 0.9841813737559184\n"
     ]
    }
   ],
   "source": [
    "NUM_EPOCHS = 5\n",
    "TEST_FREQUENCY = 1\n",
    "\n",
    "for epoch in range(1, NUM_EPOCHS+1):\n",
    "    print(\"Starting epoch number \" + str(epoch))\n",
    "    train_loss, losses = train_classifier(remaining_loader, model_untrained, criterion, optimizer)\n",
    "    print(\"Loss for Training on Epoch \" +str(epoch) + \" is \"+ str(train_loss))\n",
    "    if(epoch%TEST_FREQUENCY==0):\n",
    "        mAP_val, val_loss, _ = test_classifier(val_loader, model_untrained, criterion)\n",
    "        print('Evaluating classifier')\n",
    "        print(\"Mean Precision Score for Testing on Epoch \" +str(epoch) + \" is \"+ str(mAP_val))\n"
   ]
  },
  {
   "cell_type": "code",
   "execution_count": null,
   "metadata": {
    "colab": {
     "base_uri": "https://localhost:8080/"
    },
    "id": "ItH2U8ANjCGf",
    "outputId": "3dbeb1d6-bfb5-4dc7-f8e2-638073279291"
   },
   "outputs": [
    {
     "name": "stdout",
     "output_type": "stream",
     "text": [
      "Starting epoch number 1\n",
      "Loss for Training on Epoch 1 is 0.28647446632385254\n",
      "-------  Class: 0     AP:   0.9979  -------\n",
      "-------  Class: 1     AP:   0.9968  -------\n",
      "-------  Class: 2     AP:   0.9748  -------\n",
      "-------  Class: 3     AP:   0.9770  -------\n",
      "-------  Class: 4     AP:   0.9828  -------\n",
      "-------  Class: 5     AP:   0.9840  -------\n",
      "-------  Class: 6     AP:   0.9956  -------\n",
      "-------  Class: 7     AP:   0.9895  -------\n",
      "-------  Class: 8     AP:   0.9837  -------\n",
      "-------  Class: 9     AP:   0.9624  -------\n",
      "mAP: 0.9844\n",
      "Avg loss: 0.28818020472923916\n",
      "Evaluating classifier\n",
      "Mean Precision Score for Testing on Epoch 1 is 0.9844465772923732\n",
      "Starting epoch number 2\n",
      "Loss for Training on Epoch 2 is 0.28647446632385254\n",
      "-------  Class: 0     AP:   0.9979  -------\n",
      "-------  Class: 1     AP:   0.9968  -------\n",
      "-------  Class: 2     AP:   0.9748  -------\n",
      "-------  Class: 3     AP:   0.9770  -------\n",
      "-------  Class: 4     AP:   0.9828  -------\n",
      "-------  Class: 5     AP:   0.9840  -------\n",
      "-------  Class: 6     AP:   0.9956  -------\n",
      "-------  Class: 7     AP:   0.9895  -------\n",
      "-------  Class: 8     AP:   0.9837  -------\n",
      "-------  Class: 9     AP:   0.9624  -------\n",
      "mAP: 0.9844\n",
      "Avg loss: 0.28818020472923916\n",
      "Evaluating classifier\n",
      "Mean Precision Score for Testing on Epoch 2 is 0.9844465772923732\n",
      "Starting epoch number 3\n",
      "Loss for Training on Epoch 3 is 0.28647446632385254\n",
      "-------  Class: 0     AP:   0.9979  -------\n",
      "-------  Class: 1     AP:   0.9968  -------\n",
      "-------  Class: 2     AP:   0.9748  -------\n",
      "-------  Class: 3     AP:   0.9770  -------\n",
      "-------  Class: 4     AP:   0.9828  -------\n",
      "-------  Class: 5     AP:   0.9840  -------\n",
      "-------  Class: 6     AP:   0.9956  -------\n",
      "-------  Class: 7     AP:   0.9895  -------\n",
      "-------  Class: 8     AP:   0.9837  -------\n",
      "-------  Class: 9     AP:   0.9624  -------\n",
      "mAP: 0.9844\n",
      "Avg loss: 0.28818020472923916\n",
      "Evaluating classifier\n",
      "Mean Precision Score for Testing on Epoch 3 is 0.9844465772923732\n",
      "Starting epoch number 4\n",
      "Loss for Training on Epoch 4 is 0.28647443652153015\n",
      "-------  Class: 0     AP:   0.9979  -------\n",
      "-------  Class: 1     AP:   0.9968  -------\n",
      "-------  Class: 2     AP:   0.9748  -------\n",
      "-------  Class: 3     AP:   0.9770  -------\n",
      "-------  Class: 4     AP:   0.9828  -------\n",
      "-------  Class: 5     AP:   0.9840  -------\n",
      "-------  Class: 6     AP:   0.9956  -------\n",
      "-------  Class: 7     AP:   0.9895  -------\n",
      "-------  Class: 8     AP:   0.9837  -------\n",
      "-------  Class: 9     AP:   0.9624  -------\n",
      "mAP: 0.9844\n",
      "Avg loss: 0.28818020472923916\n",
      "Evaluating classifier\n",
      "Mean Precision Score for Testing on Epoch 4 is 0.9844465772923732\n",
      "Starting epoch number 5\n",
      "Loss for Training on Epoch 5 is 0.2864744961261749\n",
      "-------  Class: 0     AP:   0.9979  -------\n",
      "-------  Class: 1     AP:   0.9968  -------\n",
      "-------  Class: 2     AP:   0.9748  -------\n",
      "-------  Class: 3     AP:   0.9770  -------\n",
      "-------  Class: 4     AP:   0.9828  -------\n",
      "-------  Class: 5     AP:   0.9840  -------\n",
      "-------  Class: 6     AP:   0.9956  -------\n",
      "-------  Class: 7     AP:   0.9895  -------\n",
      "-------  Class: 8     AP:   0.9837  -------\n",
      "-------  Class: 9     AP:   0.9624  -------\n",
      "mAP: 0.9844\n",
      "Avg loss: 0.28818020472923916\n",
      "Evaluating classifier\n",
      "Mean Precision Score for Testing on Epoch 5 is 0.9844465772923732\n"
     ]
    }
   ],
   "source": [
    "NUM_EPOCHS = 5\n",
    "TEST_FREQUENCY = 1\n",
    "\n",
    "for epoch in range(1, NUM_EPOCHS+1):\n",
    "    print(\"Starting epoch number \" + str(epoch))\n",
    "    train_loss, losses = train_classifier(train_loader, unlearned_model, criterion, optimizer)\n",
    "    print(\"Loss for Training on Epoch \" +str(epoch) + \" is \"+ str(train_loss))\n",
    "    if(epoch%TEST_FREQUENCY==0):\n",
    "        mAP_val, val_loss, _ = test_classifier(val_loader, unlearned_model, criterion)\n",
    "        print('Evaluating classifier')\n",
    "        print(\"Mean Precision Score for Testing on Epoch \" +str(epoch) + \" is \"+ str(mAP_val))"
   ]
  },
  {
   "cell_type": "markdown",
   "metadata": {
    "id": "KFAxS0mCeIgp"
   },
   "source": [
    "# **Results Unlearning**\n",
    "\n"
   ]
  },
  {
   "cell_type": "code",
   "execution_count": null,
   "metadata": {
    "id": "JAxcvC-qeT8O"
   },
   "outputs": [],
   "source": [
    "def compute_accuracy(model, data_loader, device=\"cpu\"):\n",
    "    \"\"\"\n",
    "    Computes the accuracy of a model on a given dataset.\n",
    "\n",
    "    Arguments:\n",
    "    - model: The model to be evaluated.\n",
    "    - data_loader: The DataLoader containing the dataset.\n",
    "    - device: Device to run the model on (e.g., \"cpu\" or \"cuda\").\n",
    "\n",
    "    Returns:\n",
    "    - accuracy (float): The accuracy of the model on the dataset.\n",
    "    \"\"\"\n",
    "    model.eval()  # Set the model to evaluation mode\n",
    "    correct = 0\n",
    "    total = 0\n",
    "\n",
    "    with torch.no_grad():  # Disable gradient computation for inference\n",
    "        for data, labels in data_loader:\n",
    "            data, labels = data.to(device), labels.to(device)\n",
    "\n",
    "            # Forward pass\n",
    "            outputs = model(data)\n",
    "\n",
    "            # Get predicted labels\n",
    "            _, predicted = torch.max(outputs, 1)\n",
    "\n",
    "            # Update correct and total\n",
    "            correct += (predicted == labels).sum().item()\n",
    "            total += labels.size(0)\n",
    "\n",
    "    accuracy = correct / total\n",
    "    return accuracy"
   ]
  },
  {
   "cell_type": "code",
   "execution_count": null,
   "metadata": {},
   "outputs": [],
   "source": [
    "def compute_kl_divergence(p, q, epsilon=1e-8):\n",
    "    \"\"\"\n",
    "    Compute the Kullback-Leibler divergence between two probability distributions using PyTorch.\n",
    "\n",
    "    Arguments:\n",
    "    - p: The first probability distribution (e.g., unlearned model).\n",
    "    - q: The second probability distribution (e.g., retrained model).\n",
    "    - epsilon: A small constant to avoid log(0).\n",
    "\n",
    "    Returns:\n",
    "    - kl_div: The computed KL divergence.\n",
    "    \"\"\"\n",
    "    p = p + epsilon  # Add small epsilon for numerical stability\n",
    "    q = q + epsilon  # Add small epsilon for numerical stability\n",
    "\n",
    "    # Normalize the probability distributions\n",
    "    p = p / p.sum(dim=-1, keepdim=True)\n",
    "    q = q / q.sum(dim=-1, keepdim=True)\n",
    "\n",
    "    # Compute KL divergence using the formula: p * log(p / q)\n",
    "    kl_div = F.kl_div(p.log(), q, reduction='batchmean')\n",
    "    return kl_div"
   ]
  },
  {
   "cell_type": "code",
   "execution_count": null,
   "metadata": {
    "id": "fWO4ysuUeFWH"
   },
   "outputs": [],
   "source": [
    "def plot_accuracy_gap_and_kl(unlearned_model, retrained_model, data_loader, device=\"cpu\"):\n",
    "    \"\"\"\n",
    "    Plots the accuracy gap between the unlearned model and the retrained model for each batch,\n",
    "    as well as the KL divergence at each batch.\n",
    "\n",
    "    Arguments:\n",
    "    - unlearned_model: The unlearned model to be evaluated.\n",
    "    - retrained_model: The retrained model to be evaluated.\n",
    "    - data_loader: The DataLoader containing the dataset.\n",
    "    - device: Device to run the model on (e.g., \"cpu\" or \"cuda\").\n",
    "    \"\"\"\n",
    "    accuracy_gaps = []\n",
    "    kl_divergences = []\n",
    "\n",
    "    unlearned_model.eval()  # Set the model to evaluation mode\n",
    "    retrained_model.eval()  # Set the model to evaluation mode\n",
    "\n",
    "    with torch.no_grad():  # Disable gradient computation for inference\n",
    "        for data, labels in data_loader:\n",
    "            data, labels = data.to(device), labels.to(device)\n",
    "\n",
    "            # Forward pass for both models\n",
    "            unlearned_outputs = unlearned_model(data)\n",
    "            retrained_outputs = retrained_model(data)\n",
    "\n",
    "            # Convert logits to probabilities (softmax output)\n",
    "            unlearned_prob = F.softmax(unlearned_outputs, dim=-1)\n",
    "            retrained_prob = F.softmax(retrained_outputs, dim=-1)\n",
    "\n",
    "            # Compute accuracy for both models\n",
    "            unlearned_acc = (unlearned_outputs.argmax(dim=1) == labels).float().mean().item()\n",
    "            retrained_acc = (retrained_outputs.argmax(dim=1) == labels).float().mean().item()\n",
    "\n",
    "            # Store the accuracy gap and the KL divergence for this batch\n",
    "            accuracy_gaps.append(retrained_acc - unlearned_acc)\n",
    "            kl_divergences.append(compute_kl_divergence(unlearned_prob, retrained_prob).item())\n",
    "\n",
    "    # Plot the accuracy gap\n",
    "    plt.figure(figsize=(10, 6))\n",
    "    plt.subplot(2, 1, 1)\n",
    "    plt.plot(accuracy_gaps, label=\"Accuracy Gap (Retrained - Unlearned)\", color='orange')\n",
    "    plt.xlabel('Batch Index')\n",
    "    plt.ylabel('Accuracy Gap')\n",
    "    plt.title('Accuracy Gap Between Retrained and Unlearned Model (per Batch)')\n",
    "    plt.legend()\n",
    "\n",
    "    # Plot the KL Divergence\n",
    "    plt.subplot(2, 1, 2)\n",
    "    plt.plot(kl_divergences, label=\"KL Divergence\", color='blue')\n",
    "    plt.xlabel('Batch Index')\n",
    "    plt.ylabel('KL Divergence')\n",
    "    plt.title('KL Divergence Between Retrained and Unlearned Model (per Batch)')\n",
    "    plt.legend()\n",
    "\n",
    "    plt.tight_layout()\n",
    "    plt.show()\n"
   ]
  },
  {
   "cell_type": "code",
   "execution_count": null,
   "metadata": {
    "colab": {
     "base_uri": "https://localhost:8080/",
     "height": 601
    },
    "id": "-3vJeWJBPWvJ",
    "outputId": "8f51534a-441a-4639-8035-15249e219d18"
   },
   "outputs": [
    {
     "data": {
      "image/png": "[encoded data removed]",
      "text/plain": [
       "<Figure size 1000x600 with 2 Axes>"
      ]
     },
     "metadata": {},
     "output_type": "display_data"
    }
   ],
   "source": [
    "# Assuming `unlearned_model`, `retrained_model`, and `data_loader` are defined\n",
    "plot_accuracy_gap_and_kl(unlearned_model, model_untrained, test_loader, device=\"cuda\")\n"
   ]
  }
 ],
 "metadata": {
  "colab": {
   "provenance": []
  },
  "kernelspec": {
   "display_name": "Python 3",
   "name": "python3"
  },
  "language_info": {
   "name": "python"
  }
 },
 "nbformat": 4,
 "nbformat_minor": 0
}
