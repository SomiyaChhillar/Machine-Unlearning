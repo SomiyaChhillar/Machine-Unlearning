{
 "cells": [
  {
   "cell_type": "markdown",
   "id": "49211fb6-c093-408b-8436-39c985191c6e",
   "metadata": {},
   "source": [
    "# Machine Unlearning Using Influence Functions - CIFAR-10 Dataset\n"
   ]
  },
  {
   "cell_type": "markdown",
   "id": "0d30eac8-6fb3-4815-bb0f-43c1b804f981",
   "metadata": {},
   "source": [
    "## Step 1: Setup and Load Data"
   ]
  },
  {
   "cell_type": "code",
   "execution_count": 4,
   "id": "174b0d57-48ae-4d6e-9cc4-8bedbb4cafd2",
   "metadata": {},
   "outputs": [
    {
     "name": "stdout",
     "output_type": "stream",
     "text": [
      "Files already downloaded and verified\n",
      "Files already downloaded and verified\n"
     ]
    }
   ],
   "source": [
    "import torch\n",
    "import torch.nn as nn\n",
    "import torch.optim as optim\n",
    "from torch.utils.data import DataLoader, random_split, Subset\n",
    "from torchvision import datasets, transforms\n",
    "import numpy as np\n",
    "from sklearn.metrics import accuracy_score, precision_score, recall_score, f1_score\n",
    "import matplotlib.pyplot as plt\n",
    "\n",
    "# Load CIFAR-10 Dataset\n",
    "transform = transforms.Compose([\n",
    "    transforms.ToTensor(),\n",
    "    transforms.Normalize((0.5, 0.5, 0.5), (0.5, 0.5, 0.5))  # Normalize RGB channels\n",
    "])\n",
    "\n",
    "train_dataset = datasets.CIFAR10(root='./data', train=True, download=True, transform=transform)\n",
    "test_dataset = datasets.CIFAR10(root='./data', train=False, download=True, transform=transform)\n",
    "\n",
    "# Split train dataset into training and validation sets\n",
    "train_size = int(0.8 * len(train_dataset))\n",
    "val_size = len(train_dataset) - train_size\n",
    "train_dataset, val_dataset = random_split(train_dataset, [train_size, val_size])\n",
    "\n",
    "train_loader = DataLoader(train_dataset, batch_size=64, shuffle=True)\n",
    "val_loader = DataLoader(val_dataset, batch_size=64, shuffle=False)\n",
    "test_loader = DataLoader(test_dataset, batch_size=64, shuffle=False)"
   ]
  },
  {
   "cell_type": "markdown",
   "id": "a35ff95b-b92a-4e6f-a18c-d4aac27f5fdf",
   "metadata": {},
   "source": [
    "## Define a CNN Model"
   ]
  },
  {
   "cell_type": "code",
   "execution_count": 5,
   "id": "9e05a301-17ab-4135-b0af-118466645038",
   "metadata": {},
   "outputs": [],
   "source": [
    "# Step 2: Define a Simple CNN Model\n",
    "class SimpleCNN(nn.Module):\n",
    "    def __init__(self):\n",
    "        super(SimpleCNN, self).__init__()\n",
    "        self.conv1 = nn.Conv2d(3, 32, kernel_size=3, padding=1)\n",
    "        self.conv2 = nn.Conv2d(32, 64, kernel_size=3, padding=1)\n",
    "        self.pool = nn.MaxPool2d(2, 2)\n",
    "        self.fc1 = nn.Linear(64 * 8 * 8, 128)\n",
    "        self.fc2 = nn.Linear(128, 10)\n",
    "        self.relu = nn.ReLU()\n",
    "        self.dropout = nn.Dropout(0.5)\n",
    "\n",
    "    def forward(self, x):\n",
    "        x = self.pool(self.relu(self.conv1(x)))\n",
    "        x = self.pool(self.relu(self.conv2(x)))\n",
    "        x = x.view(-1, 64 * 8 * 8)  # Flatten\n",
    "        x = self.relu(self.fc1(x))\n",
    "        x = self.dropout(x)\n",
    "        x = self.fc2(x)\n",
    "        return x\n",
    "    \n",
    "model = SimpleCNN()\n",
    "criterion = nn.CrossEntropyLoss()\n",
    "optimizer = optim.Adam(model.parameters(), lr=0.001)"
   ]
  },
  {
   "cell_type": "markdown",
   "id": "6a83ea8c-297a-4ff0-b42e-00b35848b0f8",
   "metadata": {},
   "source": [
    "## Step 3: Train the Model"
   ]
  },
  {
   "cell_type": "code",
   "execution_count": 6,
   "id": "12c27410-a014-4c10-b676-86b1876b8bb5",
   "metadata": {},
   "outputs": [
    {
     "name": "stdout",
     "output_type": "stream",
     "text": [
      "Epoch [1/5], Loss: 1.6114\n",
      "Epoch [2/5], Loss: 1.2795\n",
      "Epoch [3/5], Loss: 1.1337\n",
      "Epoch [4/5], Loss: 1.0345\n",
      "Epoch [5/5], Loss: 0.9627\n"
     ]
    }
   ],
   "source": [
    "#Step 3: Train the Model\n",
    "def train_model(model, train_loader, criterion, optimizer, epochs=5):\n",
    "    model.train()\n",
    "    for epoch in range(epochs):\n",
    "        total_loss = 0\n",
    "        for images, labels in train_loader:\n",
    "            optimizer.zero_grad()\n",
    "            outputs = model(images)\n",
    "            loss = criterion(outputs, labels)\n",
    "            loss.backward()\n",
    "            optimizer.step()\n",
    "            total_loss += loss.item()\n",
    "        print(f\"Epoch [{epoch+1}/{epochs}], Loss: {total_loss / len(train_loader):.4f}\")\n",
    "\n",
    "train_model(model, train_loader, criterion, optimizer)"
   ]
  },
  {
   "cell_type": "markdown",
   "id": "76e3308f-57e8-47df-8731-6e104957704e",
   "metadata": {},
   "source": [
    "## Step 4: Calculate Influence Functions for Sample Instances"
   ]
  },
  {
   "cell_type": "code",
   "execution_count": 7,
   "id": "d7fd286c-1df9-4ba4-97f3-8639398bb2e3",
   "metadata": {},
   "outputs": [],
   "source": [
    "# Step 4: Calculate Influence Scores\n",
    "def calculate_influence(model, train_loader, sample_size=100):\n",
    "    model.eval()\n",
    "    sample_indices = np.random.choice(len(train_loader.dataset), sample_size, replace=False)\n",
    "    influence_scores = []\n",
    "\n",
    "    for idx in sample_indices:\n",
    "        instance, label = train_loader.dataset[idx]\n",
    "        instance = instance.unsqueeze(0).requires_grad_()  # Add batch dimension and set requires_grad=True\n",
    "        label = torch.tensor([label])\n",
    "\n",
    "        # Forward pass\n",
    "        output = model(instance)\n",
    "        loss = criterion(output, label)\n",
    "\n",
    "        # Backward pass: Compute gradients\n",
    "        grads = torch.autograd.grad(\n",
    "            loss,\n",
    "            model.parameters(),\n",
    "            retain_graph=False,\n",
    "            create_graph=False,\n",
    "            allow_unused=True\n",
    "        )\n",
    "        \n",
    "        # Calculate influence as the sum of gradient norms\n",
    "        influence = sum(grad.norm().item() for grad in grads if grad is not None)\n",
    "        influence_scores.append((idx, influence))\n",
    "\n",
    "    # Sort influence scores by magnitude\n",
    "    influence_scores.sort(key=lambda x: abs(x[1]), reverse=True)\n",
    "    return influence_scores\n",
    "\n",
    "\n",
    "sample_influences = calculate_influence(model, train_loader, sample_size=100)"
   ]
  },
  {
   "cell_type": "markdown",
   "id": "ae87ada1-86c4-405d-adc7-b12fcae5a8df",
   "metadata": {},
   "source": [
    "## Batch Unlearning"
   ]
  },
  {
   "cell_type": "code",
   "execution_count": 8,
   "id": "dd30e585-f060-4f80-8211-a4481abbb3e9",
   "metadata": {},
   "outputs": [
    {
     "name": "stdout",
     "output_type": "stream",
     "text": [
      "Removed indices: [2326, 5483, 19445, 34226, 38150, 32362, 29949, 1443, 6923, 1139]\n",
      "Epoch [1/5], Loss: 1.5640\n",
      "Epoch [2/5], Loss: 1.2428\n",
      "Epoch [3/5], Loss: 1.1034\n",
      "Epoch [4/5], Loss: 1.0094\n",
      "Epoch [5/5], Loss: 0.9441\n"
     ]
    }
   ],
   "source": [
    "# Step 5: Batch Unlearning\n",
    "def unlearn_data(train_dataset, indices_to_remove):\n",
    "    remaining_indices = list(set(range(len(train_dataset))) - set(indices_to_remove))\n",
    "    unlearned_dataset = Subset(train_dataset, remaining_indices)\n",
    "    unlearned_loader = DataLoader(unlearned_dataset, batch_size=64, shuffle=True)\n",
    "    return unlearned_loader\n",
    "\n",
    "indices_to_remove = [idx for idx, _ in sample_influences[:10]]\n",
    "unlearned_train_loader = unlearn_data(train_dataset, indices_to_remove)\n",
    "\n",
    "# Ensure removed indices are correct\n",
    "assert len(set(indices_to_remove)) == len(indices_to_remove), \"Duplicate indices detected!\"\n",
    "print(f\"Removed indices: {indices_to_remove}\")\n",
    "\n",
    "# Retrain the Model After Unlearning\n",
    "model_unlearned = SimpleCNN()\n",
    "optimizer_unlearned = optim.Adam(model_unlearned.parameters(), lr=0.001)\n",
    "train_model(model_unlearned, unlearned_train_loader, criterion, optimizer_unlearned)"
   ]
  },
  {
   "cell_type": "markdown",
   "id": "ca3aded9-fda0-400b-b8fd-488eb2414cac",
   "metadata": {},
   "source": [
    "## Step 6: Evaluate Models"
   ]
  },
  {
   "cell_type": "code",
   "execution_count": 9,
   "id": "3f9b3329-6692-4b62-a5e8-9e807876e060",
   "metadata": {},
   "outputs": [
    {
     "name": "stdout",
     "output_type": "stream",
     "text": [
      "Accuracy: 0.6839, Precision: 0.6872, Recall: 0.6839, F1 Score: 0.6837\n",
      "Accuracy: 0.6835, Precision: 0.6910, Recall: 0.6835, F1 Score: 0.6835\n"
     ]
    }
   ],
   "source": [
    "# Step 6: Evaluate Models\n",
    "def evaluate_model(model, data_loader):\n",
    "    model.eval()\n",
    "    all_preds = []\n",
    "    all_labels = []\n",
    "\n",
    "    with torch.no_grad():\n",
    "        for images, labels in data_loader:\n",
    "            outputs = model(images)\n",
    "            _, preds = torch.max(outputs, 1)\n",
    "            all_preds.extend(preds.numpy())\n",
    "            all_labels.extend(labels.numpy())\n",
    "\n",
    "    accuracy = accuracy_score(all_labels, all_preds)\n",
    "    precision = precision_score(all_labels, all_preds, average=\"weighted\")\n",
    "    recall = recall_score(all_labels, all_preds, average=\"weighted\")\n",
    "    f1 = f1_score(all_labels, all_preds, average=\"weighted\")\n",
    "    print(f\"Accuracy: {accuracy:.4f}, Precision: {precision:.4f}, Recall: {recall:.4f}, F1 Score: {f1:.4f}\")\n",
    "    return accuracy, precision, recall, f1\n",
    "\n",
    "original_metrics = evaluate_model(model, val_loader)\n",
    "unlearned_metrics = evaluate_model(model_unlearned, val_loader)"
   ]
  },
  {
   "cell_type": "markdown",
   "id": "089995ed-4896-4fef-9e65-c0a9cc6cdbf6",
   "metadata": {},
   "source": [
    "## Step 7: Visualization"
   ]
  },
  {
   "cell_type": "code",
   "execution_count": 10,
   "id": "dac2153a-85c2-48c9-8400-7a441f238459",
   "metadata": {},
   "outputs": [
    {
     "data": {
      "image/png": "[encoded data removed]",
      "text/plain": [
       "<Figure size 720x432 with 1 Axes>"
      ]
     },
     "metadata": {
      "needs_background": "light"
     },
     "output_type": "display_data"
    },
    {
     "data": {
      "image/png": "[encoded data removed]",
      "text/plain": [
       "<Figure size 432x288 with 1 Axes>"
      ]
     },
     "metadata": {
      "needs_background": "light"
     },
     "output_type": "display_data"
    }
   ],
   "source": [
    "# Step 7: Visualization\n",
    "metrics = [\"Accuracy\", \"Precision\", \"Recall\", \"F1 Score\"]\n",
    "original_values = original_metrics\n",
    "unlearned_values = unlearned_metrics\n",
    "\n",
    "# Plot Performance Comparison\n",
    "plt.figure(figsize=(10, 6))\n",
    "x = np.arange(len(metrics))\n",
    "width = 0.35\n",
    "plt.bar(x - width/2, original_values, width, label='Original Model')\n",
    "plt.bar(x + width/2, unlearned_values, width, label='Unlearned Model')\n",
    "plt.ylabel(\"Metric Value\")\n",
    "plt.title(\"Performance Comparison Before and After Unlearning\")\n",
    "plt.xticks(x, metrics)\n",
    "plt.legend()\n",
    "plt.show()\n",
    "\n",
    "# Plot Influence Score Distribution\n",
    "influences = [score for _, score in sample_influences]\n",
    "plt.hist(influences, bins=20, edgecolor='black')\n",
    "plt.xlabel(\"Influence Score\")\n",
    "plt.ylabel(\"Frequency\")\n",
    "plt.title(\"Distribution of Influence Scores\")\n",
    "plt.show()"
   ]
  },
  {
   "cell_type": "code",
   "execution_count": null,
   "id": "bc44dd84-4b19-40aa-baf4-7123d46c4a31",
   "metadata": {},
   "outputs": [],
   "source": []
  },
  {
   "cell_type": "code",
   "execution_count": null,
   "id": "833a1e56-1490-4fa9-bc3f-4b873e9767c3",
   "metadata": {},
   "outputs": [],
   "source": []
  }
 ],
 "metadata": {
  "kernelspec": {
   "display_name": "Python 3 (ORC)",
   "language": "python",
   "name": "sys_python3"
  },
  "language_info": {
   "codemirror_mode": {
    "name": "ipython",
    "version": 3
   },
   "file_extension": ".py",
   "mimetype": "text/x-python",
   "name": "python",
   "nbconvert_exporter": "python",
   "pygments_lexer": "ipython3",
   "version": "3.9.9"
  }
 },
 "nbformat": 4,
 "nbformat_minor": 5
}
