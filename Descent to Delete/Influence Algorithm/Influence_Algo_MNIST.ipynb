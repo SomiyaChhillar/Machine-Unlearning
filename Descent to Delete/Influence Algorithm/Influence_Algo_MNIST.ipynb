{
 "cells": [
  {
   "cell_type": "markdown",
   "id": "7f906244-5774-4fac-b9f8-a8bbe3b702d1",
   "metadata": {},
   "source": [
    "# Machine Unlearning Using Influence Functions - MNIST Dataset\n"
   ]
  },
  {
   "cell_type": "markdown",
   "id": "3a5b187d-f480-4a29-bfa0-f20ec03f1324",
   "metadata": {},
   "source": [
    "## Step 1: Setup and Load Data"
   ]
  },
  {
   "cell_type": "code",
   "execution_count": 1,
   "id": "5bb4e49b-863f-4f48-8155-ce7922c2f707",
   "metadata": {},
   "outputs": [
    {
     "name": "stdout",
     "output_type": "stream",
     "text": [
      "Data loading complete.\n"
     ]
    }
   ],
   "source": [
    "import torch\n",
    "import torch.nn as nn\n",
    "import torch.optim as optim\n",
    "from torch.utils.data import DataLoader, random_split\n",
    "from torchvision import datasets, transforms\n",
    "\n",
    "# Define transformation and load MNIST dataset\n",
    "transform = transforms.Compose([transforms.ToTensor()])\n",
    "dataset = datasets.MNIST(root='./data', train=True, download=True, transform=transform)\n",
    "\n",
    "# Split dataset into training and validation sets\n",
    "train_size = int(0.8 * len(dataset))\n",
    "val_size = len(dataset) - train_size\n",
    "train_dataset, val_dataset = random_split(dataset, [train_size, val_size])\n",
    "\n",
    "train_loader = DataLoader(train_dataset, batch_size=64, shuffle=True)\n",
    "val_loader = DataLoader(val_dataset, batch_size=64, shuffle=False)\n",
    "\n",
    "print(\"Data loading complete.\")\n"
   ]
  },
  {
   "cell_type": "markdown",
   "id": "4b9169b9-c064-4425-b1ac-f85b7d20ec57",
   "metadata": {},
   "source": [
    "## Step 2: Define the Logistic Regression Model"
   ]
  },
  {
   "cell_type": "code",
   "execution_count": 2,
   "id": "b3bd4e27-ab70-4999-b380-df893203b9be",
   "metadata": {},
   "outputs": [
    {
     "name": "stdout",
     "output_type": "stream",
     "text": [
      "Model setup complete.\n"
     ]
    }
   ],
   "source": [
    "class LogisticRegression(nn.Module):\n",
    "    def __init__(self, input_size, num_classes):\n",
    "        super(LogisticRegression, self).__init__()\n",
    "        self.linear = nn.Linear(input_size, num_classes)\n",
    "\n",
    "    def forward(self, x):\n",
    "        x = x.view(-1, 28 * 28)  # Flatten the images\n",
    "        return self.linear(x)\n",
    "\n",
    "model = LogisticRegression(28 * 28, 10)\n",
    "criterion = nn.CrossEntropyLoss()\n",
    "optimizer = optim.SGD(model.parameters(), lr=0.01)\n",
    "\n",
    "print(\"Model setup complete.\")\n"
   ]
  },
  {
   "cell_type": "markdown",
   "id": "258062d0-98ff-4221-86fb-fc8006711742",
   "metadata": {},
   "source": [
    "## Step 3: Train the Model"
   ]
  },
  {
   "cell_type": "code",
   "execution_count": 3,
   "id": "b22426fc-d02f-48ba-8b56-63f6af84455b",
   "metadata": {},
   "outputs": [
    {
     "name": "stdout",
     "output_type": "stream",
     "text": [
      "Epoch [1/5], Loss: 1.0685\n",
      "Epoch [2/5], Loss: 0.5988\n",
      "Epoch [3/5], Loss: 0.5056\n",
      "Epoch [4/5], Loss: 0.4604\n",
      "Epoch [5/5], Loss: 0.4325\n",
      "Training complete.\n"
     ]
    }
   ],
   "source": [
    "def train_model(model, train_loader, criterion, optimizer, epochs=5):\n",
    "    model.train()\n",
    "    for epoch in range(epochs):\n",
    "        total_loss = 0\n",
    "        for images, labels in train_loader:\n",
    "            optimizer.zero_grad()\n",
    "            outputs = model(images)\n",
    "            loss = criterion(outputs, labels)\n",
    "            loss.backward()\n",
    "            optimizer.step()\n",
    "            total_loss += loss.item()\n",
    "        avg_loss = total_loss / len(train_loader)\n",
    "        print(f\"Epoch [{epoch+1}/{epochs}], Loss: {avg_loss:.4f}\")\n",
    "\n",
    "train_model(model, train_loader, criterion, optimizer)\n",
    "print(\"Training complete.\")\n"
   ]
  },
  {
   "cell_type": "markdown",
   "id": "0b0363b8-981d-4698-8d5c-8f4b817c259a",
   "metadata": {},
   "source": [
    "## Step 4: Calculate Influence Functions for Sample Instances"
   ]
  },
  {
   "cell_type": "code",
   "execution_count": 4,
   "id": "f744a759-8254-4c9b-b02d-823901ad6fe9",
   "metadata": {},
   "outputs": [
    {
     "name": "stdout",
     "output_type": "stream",
     "text": [
      "Top 5 influential instances (index, influence): [(31548, 0.0005491924239322543), (10277, 0.0005024990532547235), (14033, 0.00047708844067528844), (40662, 0.00040207698475569487), (1235, -0.0003747732553165406)]\n"
     ]
    }
   ],
   "source": [
    "from torch.autograd import grad\n",
    "import numpy as np\n",
    "\n",
    "# Helper function for Hessian-vector product calculation\n",
    "def hvp(loss, model, v):\n",
    "    grads = grad(loss, model.parameters(), create_graph=True)\n",
    "    hv = grad(grads, model.parameters(), grad_outputs=v, retain_graph=True)\n",
    "    return hv\n",
    "\n",
    "# Function to calculate influence for a single instance\n",
    "def influence_on_loss(model, instance, label):\n",
    "    model.eval()\n",
    "    instance = instance.view(1, -1)  # Flatten the image\n",
    "    label = torch.tensor([label])\n",
    "    \n",
    "    # Forward pass and loss calculation\n",
    "    output = model(instance)\n",
    "    loss = criterion(output, label)\n",
    "    \n",
    "    # Compute gradients\n",
    "    grads = grad(loss, model.parameters(), create_graph=True)\n",
    "    \n",
    "    # Dummy vector for Hessian-vector product\n",
    "    v = [torch.ones_like(param) for param in model.parameters()]\n",
    "    hvp_val = hvp(loss, model, v)\n",
    "    \n",
    "    # Estimate influence\n",
    "    influence = sum((g * h).sum() for g, h in zip(grads, hvp_val))\n",
    "    return influence.item()\n",
    "\n",
    "# Sample a subset of instances to calculate influence scores\n",
    "def calculate_influence_sample(model, train_loader, sample_size=100):\n",
    "    influence_scores = []\n",
    "    model.eval()\n",
    "    \n",
    "    sample_indices = np.random.choice(len(train_loader.dataset), sample_size, replace=False)\n",
    "    for idx in sample_indices:\n",
    "        instance, label = train_loader.dataset[idx]\n",
    "        influence = influence_on_loss(model, instance, label)\n",
    "        influence_scores.append((idx, influence))\n",
    "        \n",
    "    # Sort by influence magnitude\n",
    "    influence_scores.sort(key=lambda x: abs(x[1]), reverse=True)\n",
    "    return influence_scores\n",
    "\n",
    "# Calculate influence for a sample of 100 instances\n",
    "sample_influences = calculate_influence_sample(model, train_loader, sample_size=100)\n",
    "print(\"Top 5 influential instances (index, influence):\", sample_influences[:5])\n"
   ]
  },
  {
   "cell_type": "markdown",
   "id": "16b5c07b-d34b-4cc6-afd1-ec3b8d823ac8",
   "metadata": {},
   "source": [
    "## Step 5: Implement Machine Unlearning and Retrain the Model"
   ]
  },
  {
   "cell_type": "code",
   "execution_count": 5,
   "id": "efbfde27-cff1-4969-990a-be5dd0de9b9a",
   "metadata": {},
   "outputs": [
    {
     "name": "stdout",
     "output_type": "stream",
     "text": [
      "Epoch [1/5], Loss: 1.0662\n",
      "Epoch [2/5], Loss: 0.5972\n",
      "Epoch [3/5], Loss: 0.5045\n",
      "Epoch [4/5], Loss: 0.4596\n",
      "Epoch [5/5], Loss: 0.4318\n",
      "Model retraining complete after unlearning.\n"
     ]
    }
   ],
   "source": [
    "# Remove top 10 high-influence instances\n",
    "indices_to_remove = [idx for idx, _ in sample_influences[:10]]\n",
    "unlearned_train_dataset = torch.utils.data.Subset(train_dataset, list(set(range(len(train_dataset))) - set(indices_to_remove)))\n",
    "unlearned_train_loader = DataLoader(unlearned_train_dataset, batch_size=64, shuffle=True)\n",
    "\n",
    "# Retrain the model on unlearned dataset\n",
    "model_unlearned = LogisticRegression(28 * 28, 10)\n",
    "optimizer = optim.SGD(model_unlearned.parameters(), lr=0.01)\n",
    "train_model(model_unlearned, unlearned_train_loader, criterion, optimizer)\n",
    "print(\"Model retraining complete after unlearning.\")\n"
   ]
  },
  {
   "cell_type": "markdown",
   "id": "b1562ed7-c014-4d71-bb20-8942660c3b97",
   "metadata": {},
   "source": [
    "## Step 6: Evaluate the Model with Detailed Metrics"
   ]
  },
  {
   "cell_type": "code",
   "execution_count": 6,
   "id": "d3d3d53b-81d7-4f73-bf9a-5b3c90bfaf80",
   "metadata": {},
   "outputs": [
    {
     "name": "stdout",
     "output_type": "stream",
     "text": [
      "Original model performance:\n",
      "Accuracy: 0.8914, Precision: 0.8911, Recall: 0.8914, F1 Score: 0.8909\n",
      "Unlearned model performance:\n",
      "Accuracy: 0.8910, Precision: 0.8909, Recall: 0.8910, F1 Score: 0.8906\n"
     ]
    }
   ],
   "source": [
    "from sklearn.metrics import accuracy_score, precision_score, recall_score, f1_score\n",
    "\n",
    "# Evaluation function with multiple metrics\n",
    "def evaluate_model(model, data_loader):\n",
    "    model.eval()\n",
    "    all_preds = []\n",
    "    all_labels = []\n",
    "    \n",
    "    with torch.no_grad():\n",
    "        for images, labels in data_loader:\n",
    "            outputs = model(images)\n",
    "            _, preds = torch.max(outputs, 1)\n",
    "            all_preds.extend(preds.numpy())\n",
    "            all_labels.extend(labels.numpy())\n",
    "    \n",
    "    # Calculate metrics\n",
    "    accuracy = accuracy_score(all_labels, all_preds)\n",
    "    precision = precision_score(all_labels, all_preds, average=\"weighted\")\n",
    "    recall = recall_score(all_labels, all_preds, average=\"weighted\")\n",
    "    f1 = f1_score(all_labels, all_preds, average=\"weighted\")\n",
    "    \n",
    "    print(f\"Accuracy: {accuracy:.4f}, Precision: {precision:.4f}, Recall: {recall:.4f}, F1 Score: {f1:.4f}\")\n",
    "    return accuracy, precision, recall, f1\n",
    "\n",
    "# Evaluate both models\n",
    "print(\"Original model performance:\")\n",
    "original_metrics = evaluate_model(model, val_loader)\n",
    "\n",
    "print(\"Unlearned model performance:\")\n",
    "unlearned_metrics = evaluate_model(model_unlearned, val_loader)\n"
   ]
  },
  {
   "cell_type": "markdown",
   "id": "ecfa3fd1-b418-4bfb-9492-c0b363a614c8",
   "metadata": {},
   "source": [
    "## Step 7: Visualize Influence Scores and Performance Impact\n"
   ]
  },
  {
   "cell_type": "code",
   "execution_count": 7,
   "id": "8efe075b-1cf3-4ebf-bb79-a7f8cd84cb4e",
   "metadata": {},
   "outputs": [
    {
     "data": {
      "image/png": "[encoded data removed]",
      "text/plain": [
       "<Figure size 432x288 with 1 Axes>"
      ]
     },
     "metadata": {
      "needs_background": "light"
     },
     "output_type": "display_data"
    }
   ],
   "source": [
    "import matplotlib.pyplot as plt\n",
    "\n",
    "# Plot distribution of influence scores\n",
    "influences = [score for _, score in sample_influences]\n",
    "plt.hist(influences, bins=20, edgecolor='black')\n",
    "plt.xlabel(\"Influence Score\")\n",
    "plt.ylabel(\"Frequency\")\n",
    "plt.title(\"Distribution of Influence Scores\")\n",
    "plt.show()\n"
   ]
  },
  {
   "cell_type": "code",
   "execution_count": 8,
   "id": "cc6d6488-d0e7-4347-b0fc-5a87c0829273",
   "metadata": {},
   "outputs": [
    {
     "data": {
      "image/png": "[encoded data removed]",
      "text/plain": [
       "<Figure size 720x432 with 1 Axes>"
      ]
     },
     "metadata": {
      "needs_background": "light"
     },
     "output_type": "display_data"
    }
   ],
   "source": [
    "# Plot performance metrics for comparison\n",
    "metrics = [\"Accuracy\", \"Precision\", \"Recall\", \"F1 Score\"]\n",
    "original_values = original_metrics\n",
    "unlearned_values = unlearned_metrics\n",
    "\n",
    "x = np.arange(len(metrics))  # the label locations\n",
    "\n",
    "# Plot side-by-side bars with an offset for visibility\n",
    "width = 0.35  # the width of the bars\n",
    "fig, ax = plt.subplots(figsize=(10, 6))\n",
    "ax.bar(x - width/2, original_values, width, label='Original Model')\n",
    "ax.bar(x + width/2, unlearned_values, width, label='Unlearned Model')\n",
    "\n",
    "# Add some labels and title\n",
    "ax.set_ylabel('Metric Value')\n",
    "ax.set_title('Model Performance Comparison')\n",
    "ax.set_xticks(x)\n",
    "ax.set_xticklabels(metrics)\n",
    "ax.legend()\n",
    "\n",
    "plt.show()"
   ]
  },
  {
   "cell_type": "code",
   "execution_count": null,
   "id": "e12b00ba-9a9a-456c-bd9a-bd3a1a5ba2e0",
   "metadata": {},
   "outputs": [],
   "source": []
  },
  {
   "cell_type": "code",
   "execution_count": null,
   "id": "06d63a43-c13c-4400-95ec-4e48c9d6af94",
   "metadata": {},
   "outputs": [],
   "source": []
  }
 ],
 "metadata": {
  "kernelspec": {
   "display_name": "Python 3 (ORC)",
   "language": "python",
   "name": "sys_python3"
  },
  "language_info": {
   "codemirror_mode": {
    "name": "ipython",
    "version": 3
   },
   "file_extension": ".py",
   "mimetype": "text/x-python",
   "name": "python",
   "nbconvert_exporter": "python",
   "pygments_lexer": "ipython3",
   "version": "3.9.9"
  }
 },
 "nbformat": 4,
 "nbformat_minor": 5
}
