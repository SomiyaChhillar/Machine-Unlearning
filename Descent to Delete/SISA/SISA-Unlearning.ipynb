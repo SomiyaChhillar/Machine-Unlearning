{
 "cells": [
  {
   "cell_type": "markdown",
   "id": "9218f69b-3cf5-44f1-9b0e-764292fb7f30",
   "metadata": {},
   "source": [
    "# MNIST Unlearning"
   ]
  },
  {
   "cell_type": "markdown",
   "id": "dae76f11-3681-4188-999a-bbe70f2718be",
   "metadata": {},
   "source": [
    "## Import necessary libraries"
   ]
  },
  {
   "cell_type": "code",
   "execution_count": 1,
   "id": "beab5ddb-a54b-4a45-8e4c-bd920918f0d4",
   "metadata": {},
   "outputs": [],
   "source": [
    "import warnings\n",
    "\n",
    "warnings.filterwarnings(\"ignore\")"
   ]
  },
  {
   "cell_type": "code",
   "execution_count": 2,
   "id": "772ecf2c-97ce-4fb0-9109-15bdb7af7bce",
   "metadata": {},
   "outputs": [
    {
     "name": "stderr",
     "output_type": "stream",
     "text": [
      "2024-12-01 23:11:03.934613: E external/local_xla/xla/stream_executor/cuda/cuda_fft.cc:477] Unable to register cuFFT factory: Attempting to register factory for plugin cuFFT when one has already been registered\n",
      "WARNING: All log messages before absl::InitializeLog() is called are written to STDERR\n",
      "E0000 00:00:1733112663.945929 3758213 cuda_dnn.cc:8310] Unable to register cuDNN factory: Attempting to register factory for plugin cuDNN when one has already been registered\n",
      "E0000 00:00:1733112663.949368 3758213 cuda_blas.cc:1418] Unable to register cuBLAS factory: Attempting to register factory for plugin cuBLAS when one has already been registered\n",
      "2024-12-01 23:11:03.961662: I tensorflow/core/platform/cpu_feature_guard.cc:210] This TensorFlow binary is optimized to use available CPU instructions in performance-critical operations.\n",
      "To enable the following instructions: AVX2 FMA, in other operations, rebuild TensorFlow with the appropriate compiler flags.\n"
     ]
    }
   ],
   "source": [
    "import tensorflow as tf\n",
    "from tensorflow.keras import datasets, layers, models\n",
    "import numpy as np\n",
    "import matplotlib.pyplot as plt\n",
    "from sklearn.utils import shuffle\n",
    "from sklearn.metrics import accuracy_score\n"
   ]
  },
  {
   "cell_type": "markdown",
   "id": "f64ace27-9531-4221-9fbd-9074ea2df707",
   "metadata": {},
   "source": [
    "## 1. Load and Preprocess the MNIST Dataset"
   ]
  },
  {
   "cell_type": "code",
   "execution_count": 3,
   "id": "151fe8b7-1f2b-4734-a307-352517a48f43",
   "metadata": {},
   "outputs": [],
   "source": [
    "# Load the MNIST dataset\n",
    "(train_images, train_labels), (test_images, test_labels) = datasets.mnist.load_data()"
   ]
  },
  {
   "cell_type": "code",
   "execution_count": 4,
   "id": "0321855d-11b6-42e6-86d2-527abc2e6aa1",
   "metadata": {},
   "outputs": [],
   "source": [
    "# Preprocess the data\n",
    "train_images = train_images.reshape((-1, 28, 28, 1)).astype('float32') / 255.0\n",
    "test_images  = test_images.reshape((-1, 28, 28, 1)).astype('float32') / 255.0"
   ]
  },
  {
   "cell_type": "code",
   "execution_count": 5,
   "id": "9c3ddc90-3585-4b49-a899-70c78785a9e0",
   "metadata": {},
   "outputs": [],
   "source": [
    "# Shuffle the training data\n",
    "train_images, train_labels = shuffle(train_images, train_labels, random_state=42)"
   ]
  },
  {
   "cell_type": "code",
   "execution_count": 6,
   "id": "1f2956a1-3972-47e7-a249-49a33b0652ed",
   "metadata": {},
   "outputs": [],
   "source": [
    "# Create a validation set from training data\n",
    "validation_split = 0.1\n",
    "num_validation_samples = int(validation_split * len(train_images))\n",
    "validation_images = train_images[:num_validation_samples]\n",
    "validation_labels = train_labels[:num_validation_samples]\n",
    "train_images = train_images[num_validation_samples:]\n",
    "train_labels = train_labels[num_validation_samples:]"
   ]
  },
  {
   "cell_type": "markdown",
   "id": "a6b05cbb-a69e-4a4b-a5df-b5681539d84d",
   "metadata": {},
   "source": [
    "## 2. Partition the Data into Shards and Slices"
   ]
  },
  {
   "cell_type": "code",
   "execution_count": 15,
   "id": "9fb9be03-5ade-406a-bbaa-bf590911aa1b",
   "metadata": {},
   "outputs": [],
   "source": [
    "# Define the number of shards and slices\n",
    "num_shards = 1\n",
    "num_slices = 1  # Adjusted for larger slice size"
   ]
  },
  {
   "cell_type": "code",
   "execution_count": 16,
   "id": "ed7549d7-d9b6-42c0-b47b-2451310278c2",
   "metadata": {},
   "outputs": [],
   "source": [
    "# Partition the data into shards\n",
    "total_train_samples = train_images.shape[0]\n",
    "shard_size = total_train_samples // num_shards\n",
    "shards = []"
   ]
  },
  {
   "cell_type": "code",
   "execution_count": 17,
   "id": "3ae6a1cf-066c-4701-b786-7644a5c5b1b9",
   "metadata": {},
   "outputs": [],
   "source": [
    "for i in range(num_shards):\n",
    "    start_index = i * shard_size\n",
    "    end_index = (i + 1) * shard_size if i != num_shards - 1 else total_train_samples\n",
    "    shard_images = train_images[start_index:end_index]\n",
    "    shard_labels = train_labels[start_index:end_index]\n",
    "    shards.append((shard_images, shard_labels))"
   ]
  },
  {
   "cell_type": "code",
   "execution_count": 18,
   "id": "604b0430-db74-4af2-925a-d9587fb837a0",
   "metadata": {},
   "outputs": [
    {
     "name": "stdout",
     "output_type": "stream",
     "text": [
      "Size of Training Dataset: 54000\n",
      "Number of Shards: 1\n",
      "Size of Each Shard: 54000\n"
     ]
    }
   ],
   "source": [
    "print(f'Size of Training Dataset: {train_images.shape[0]}')\n",
    "print(f'Number of Shards: {num_shards}')\n",
    "print(f'Size of Each Shard: {len(shards[0][1])}')"
   ]
  },
  {
   "cell_type": "code",
   "execution_count": 19,
   "id": "28ef6cab-5c40-4a55-97bb-e8ae757604dc",
   "metadata": {},
   "outputs": [],
   "source": [
    "# Function to partition a shard into slices\n",
    "def partition_into_slices(images, labels, num_slices):\n",
    "    slice_size = len(images) // num_slices\n",
    "    slices = []\n",
    "    for i in range(num_slices):\n",
    "        start_idx = i * slice_size\n",
    "        end_idx = (i + 1) * slice_size if i != num_slices - 1 else len(images)\n",
    "        slice_images = images[start_idx:end_idx]\n",
    "        slice_labels = labels[start_idx:end_idx]\n",
    "        slices.append((slice_images, slice_labels))\n",
    "    return slices"
   ]
  },
  {
   "cell_type": "code",
   "execution_count": 20,
   "id": "6a11b9e6-a6da-492b-969c-6b2bc28555f1",
   "metadata": {},
   "outputs": [
    {
     "name": "stdout",
     "output_type": "stream",
     "text": [
      "Number of Samples Per Slice: 54000\n"
     ]
    }
   ],
   "source": [
    "shard_images, shard_labels = shards[0]\n",
    "print(f'Number of Samples Per Slice: {len(partition_into_slices(shard_images, shard_labels, num_slices)[0][1])}')"
   ]
  },
  {
   "cell_type": "markdown",
   "id": "9251679d-87f9-4631-85eb-c87af95aebe0",
   "metadata": {},
   "source": [
    "## 3. Initialize Models for Each Shard"
   ]
  },
  {
   "cell_type": "code",
   "execution_count": 21,
   "id": "2d1be15e-b0b2-472a-9922-636086ea215d",
   "metadata": {},
   "outputs": [],
   "source": [
    "# Function to create the model\n",
    "def create_model():\n",
    "    model = models.Sequential([\n",
    "        layers.Conv2D(32, (3,3), padding='same', activation='relu', input_shape=(28,28,1)),\n",
    "        layers.BatchNormalization(),\n",
    "        layers.Conv2D(32, (3,3), padding='same', activation='relu'),\n",
    "        layers.BatchNormalization(),\n",
    "        layers.MaxPooling2D((2,2)),\n",
    "        layers.Dropout(0.25),\n",
    "\n",
    "        layers.Conv2D(64, (3,3), padding='same', activation='relu'),\n",
    "        layers.BatchNormalization(),\n",
    "        layers.Conv2D(64, (3,3), padding='same', activation='relu'),\n",
    "        layers.BatchNormalization(),\n",
    "        layers.MaxPooling2D((2,2)),\n",
    "        layers.Dropout(0.25),\n",
    "\n",
    "        layers.Flatten(),\n",
    "        layers.Dense(256, activation='relu'),\n",
    "        layers.BatchNormalization(),\n",
    "        layers.Dropout(0.5),\n",
    "        layers.Dense(10, activation='softmax')\n",
    "    ])\n",
    "\n",
    "    # Compile the model\n",
    "    optimizer = tf.keras.optimizers.Adam(learning_rate=0.001)\n",
    "    model.compile(optimizer=optimizer,\n",
    "                  loss='sparse_categorical_crossentropy',\n",
    "                  metrics=['accuracy'])\n",
    "    return model"
   ]
  },
  {
   "cell_type": "markdown",
   "id": "e3a7a977-b417-4156-994e-76217d403d87",
   "metadata": {},
   "source": [
    "## 4. Incremental Training over Slices"
   ]
  },
  {
   "cell_type": "code",
   "execution_count": 22,
   "id": "509c1cbb-340f-4e01-8080-af0e9e08163d",
   "metadata": {},
   "outputs": [],
   "source": [
    "# Lists to store models and history\n",
    "shard_models = []\n",
    "histories = []"
   ]
  },
  {
   "cell_type": "code",
   "execution_count": 23,
   "id": "9f256009-a83d-4f1f-a713-8c2114827c4a",
   "metadata": {},
   "outputs": [],
   "source": [
    "# Training parameters\n",
    "epochs_per_slice = 5  # Increased epochs per slice\n",
    "batch_size = 32       # Reduced batch size"
   ]
  },
  {
   "cell_type": "code",
   "execution_count": 24,
   "id": "2479fc1f-fea5-4af8-86d5-a1d7e955e1ae",
   "metadata": {
    "tags": []
   },
   "outputs": [
    {
     "name": "stdout",
     "output_type": "stream",
     "text": [
      "\n",
      "Initializing model for Shard 1/1\n"
     ]
    },
    {
     "name": "stderr",
     "output_type": "stream",
     "text": [
      "I0000 00:00:1733112687.871828 3758213 gpu_device.cc:2022] Created device /job:localhost/replica:0/task:0/device:GPU:0 with 37130 MB memory:  -> device: 0, name: NVIDIA A100-SXM4-80GB MIG 3g.40gb, pci bus id: 0000:81:00.0, compute capability: 8.0\n"
     ]
    },
    {
     "name": "stdout",
     "output_type": "stream",
     "text": [
      "Training on Slice 1/1 of Shard 1\n",
      "Epoch 1/5\n"
     ]
    },
    {
     "name": "stderr",
     "output_type": "stream",
     "text": [
      "WARNING: All log messages before absl::InitializeLog() is called are written to STDERR\n",
      "I0000 00:00:1733112690.709258 3761569 service.cc:148] XLA service 0x7f7710016540 initialized for platform CUDA (this does not guarantee that XLA will be used). Devices:\n",
      "I0000 00:00:1733112690.709295 3761569 service.cc:156]   StreamExecutor device (0): NVIDIA A100-SXM4-80GB MIG 3g.40gb, Compute Capability 8.0\n",
      "2024-12-01 23:11:30.755841: I tensorflow/compiler/mlir/tensorflow/utils/dump_mlir_util.cc:268] disabling MLIR crash reproducer, set env var `MLIR_CRASH_REPRODUCER_DIRECTORY` to enable.\n",
      "I0000 00:00:1733112690.996165 3761569 cuda_dnn.cc:529] Loaded cuDNN version 90300\n",
      "2024-12-01 23:11:31.221228: W external/local_xla/xla/service/gpu/nvptx_compiler.cc:930] The NVIDIA driver's CUDA version is 12.3 which is older than the PTX compiler version 12.5.82. Because the driver is older than the PTX compiler version, XLA is disabling parallel compilation, which may slow down compilation. You should update your NVIDIA driver or use the NVIDIA-provided CUDA forward compatibility packages.\n"
     ]
    },
    {
     "name": "stdout",
     "output_type": "stream",
     "text": [
      "\u001b[1m  73/1688\u001b[0m \u001b[37m━━━━━━━━━━━━━━━━━━━━\u001b[0m \u001b[1m3s\u001b[0m 2ms/step - accuracy: 0.5915 - loss: 1.3875"
     ]
    },
    {
     "name": "stderr",
     "output_type": "stream",
     "text": [
      "I0000 00:00:1733112693.769037 3761569 device_compiler.h:188] Compiled cluster using XLA!  This line is logged at most once for the lifetime of the process.\n"
     ]
    },
    {
     "name": "stdout",
     "output_type": "stream",
     "text": [
      "\u001b[1m1688/1688\u001b[0m \u001b[32m━━━━━━━━━━━━━━━━━━━━\u001b[0m\u001b[37m\u001b[0m \u001b[1m13s\u001b[0m 4ms/step - accuracy: 0.9076 - loss: 0.3068 - val_accuracy: 0.9857 - val_loss: 0.0467\n",
      "Epoch 2/5\n",
      "\u001b[1m1688/1688\u001b[0m \u001b[32m━━━━━━━━━━━━━━━━━━━━\u001b[0m\u001b[37m\u001b[0m \u001b[1m4s\u001b[0m 2ms/step - accuracy: 0.9779 - loss: 0.0704 - val_accuracy: 0.9898 - val_loss: 0.0337\n",
      "Epoch 3/5\n",
      "\u001b[1m1688/1688\u001b[0m \u001b[32m━━━━━━━━━━━━━━━━━━━━\u001b[0m\u001b[37m\u001b[0m \u001b[1m4s\u001b[0m 2ms/step - accuracy: 0.9837 - loss: 0.0521 - val_accuracy: 0.9898 - val_loss: 0.0313\n",
      "Epoch 4/5\n",
      "\u001b[1m1688/1688\u001b[0m \u001b[32m━━━━━━━━━━━━━━━━━━━━\u001b[0m\u001b[37m\u001b[0m \u001b[1m4s\u001b[0m 2ms/step - accuracy: 0.9865 - loss: 0.0454 - val_accuracy: 0.9888 - val_loss: 0.0356\n",
      "Epoch 5/5\n",
      "\u001b[1m1688/1688\u001b[0m \u001b[32m━━━━━━━━━━━━━━━━━━━━\u001b[0m\u001b[37m\u001b[0m \u001b[1m4s\u001b[0m 2ms/step - accuracy: 0.9877 - loss: 0.0409 - val_accuracy: 0.9910 - val_loss: 0.0315\n"
     ]
    }
   ],
   "source": [
    "for shard_idx, (shard_images, shard_labels) in enumerate(shards):\n",
    "    print(f\"\\nInitializing model for Shard {shard_idx+1}/{num_shards}\")\n",
    "    model = create_model()\n",
    "\n",
    "    # Partition the shard into slices\n",
    "    slices = partition_into_slices(shard_images, shard_labels, num_slices)\n",
    "\n",
    "    # Train incrementally over slices\n",
    "    for slice_idx, (slice_images, slice_labels) in enumerate(slices):\n",
    "        print(f\"Training on Slice {slice_idx+1}/{num_slices} of Shard {shard_idx+1}\")\n",
    "        history = model.fit(\n",
    "            slice_images, slice_labels,\n",
    "            epochs=epochs_per_slice,\n",
    "            batch_size=batch_size,\n",
    "            verbose=1,\n",
    "            validation_data=(validation_images, validation_labels)\n",
    "        )\n",
    "        # Optionally, store histories for each slice\n",
    "        histories.append(history)\n",
    "\n",
    "    shard_models.append(model)"
   ]
  },
  {
   "cell_type": "markdown",
   "id": "c6132417-063e-475a-9653-3cf9c146705f",
   "metadata": {},
   "source": [
    "## 5. Aggregate the Models"
   ]
  },
  {
   "cell_type": "code",
   "execution_count": 25,
   "id": "aaef9bde-e99c-46f3-a1d7-40f78f58abcc",
   "metadata": {},
   "outputs": [],
   "source": [
    "# Function to make predictions using the ensemble of models\n",
    "def ensemble_predictions(models, data):\n",
    "    predictions = np.array([model.predict(data) for model in models])\n",
    "    avg_predictions = np.mean(predictions, axis=0)\n",
    "    return np.argmax(avg_predictions, axis=1)"
   ]
  },
  {
   "cell_type": "markdown",
   "id": "22ff8a1b-b8fc-4dc4-815c-f415af3c2353",
   "metadata": {},
   "source": [
    "## 6. Evaluate the Aggregated Model"
   ]
  },
  {
   "cell_type": "code",
   "execution_count": 26,
   "id": "e8f7beb7-349c-4876-b88d-39fc34aa6c70",
   "metadata": {},
   "outputs": [
    {
     "name": "stdout",
     "output_type": "stream",
     "text": [
      "\u001b[1m313/313\u001b[0m \u001b[32m━━━━━━━━━━━━━━━━━━━━\u001b[0m\u001b[37m\u001b[0m \u001b[1m1s\u001b[0m 2ms/step\n"
     ]
    }
   ],
   "source": [
    "# Make predictions on the test set\n",
    "ensemble_preds = ensemble_predictions(shard_models, test_images)"
   ]
  },
  {
   "cell_type": "code",
   "execution_count": 27,
   "id": "c6e7417e-8cfe-49a0-9bfe-51afdffe9851",
   "metadata": {},
   "outputs": [
    {
     "name": "stdout",
     "output_type": "stream",
     "text": [
      "\n",
      "Ensemble Model Test Accuracy: 99.05%\n"
     ]
    }
   ],
   "source": [
    "# Calculate accuracy\n",
    "ensemble_accuracy = accuracy_score(test_labels, ensemble_preds)\n",
    "print(f\"\\nEnsemble Model Test Accuracy: {ensemble_accuracy * 100:.2f}%\")"
   ]
  },
  {
   "cell_type": "markdown",
   "id": "4e95b631-e959-4a1f-aa06-df9f39a7b1a0",
   "metadata": {},
   "source": [
    "## 7. Plot Training and Validation Graphs"
   ]
  },
  {
   "cell_type": "code",
   "execution_count": 28,
   "id": "e3ac2bf7-c08c-49a9-9756-c1723f25ba81",
   "metadata": {
    "tags": []
   },
   "outputs": [
    {
     "data": {
      "image/png": "[encoded data removed]",
      "text/plain": [
       "<Figure size 1400x600 with 2 Axes>"
      ]
     },
     "metadata": {},
     "output_type": "display_data"
    }
   ],
   "source": [
    "# Plot settings\n",
    "plt.figure(figsize=(14, 6))\n",
    "\n",
    "# Initialize subplots for accuracy and loss\n",
    "ax1 = plt.subplot(1, 2, 1)\n",
    "ax2 = plt.subplot(1, 2, 2)\n",
    "\n",
    "# Plot accuracy and loss for each shard's last slice\n",
    "for i, history in enumerate(histories):\n",
    "    # Accuracy\n",
    "    ax1.plot(history.history['accuracy'], label=f'Shard {i//num_slices+1} Slice {i%num_slices+1} Train')\n",
    "    ax1.plot(history.history['val_accuracy'], label=f'Shard {i//num_slices+1} Slice {i%num_slices+1} Val', linestyle='--')\n",
    "    # Loss\n",
    "    ax2.plot(history.history['loss'], label=f'Shard {i//num_slices+1} Slice {i%num_slices+1} Train')\n",
    "    ax2.plot(history.history['val_loss'], label=f'Shard {i//num_slices+1} Slice {i%num_slices+1} Val', linestyle='--')\n",
    "    \n",
    "# Customize plots\n",
    "ax1.set_title('Training and Validation Accuracy')\n",
    "ax1.set_xlabel('Epoch')\n",
    "ax1.set_ylabel('Accuracy')\n",
    "ax1.legend(loc='lower right')\n",
    "\n",
    "ax2.set_title('Training and Validation Loss')\n",
    "ax2.set_xlabel('Epoch')\n",
    "ax2.set_ylabel('Loss')\n",
    "ax2.legend(loc='upper right')\n",
    "\n",
    "plt.tight_layout()\n",
    "plt.show()"
   ]
  },
  {
   "cell_type": "markdown",
   "id": "7443b709-2636-4cbc-a9ac-c44135094b98",
   "metadata": {},
   "source": [
    "## 8. Removing Specific Data Samples"
   ]
  },
  {
   "cell_type": "code",
   "execution_count": 32,
   "id": "f31cad19-5c12-49ab-a17f-4cd09015bfef",
   "metadata": {},
   "outputs": [],
   "source": [
    "# Simulate unlearning by removing all samples of label '0' from Shard 3\n",
    "label_to_remove = 0\n",
    "unlearn_shard_idx = 0  # Shard indices start from 0"
   ]
  },
  {
   "cell_type": "code",
   "execution_count": 33,
   "id": "ec311ea7-43d5-4dc4-b691-bfb59b5bbdd2",
   "metadata": {},
   "outputs": [],
   "source": [
    "# Get the data for the shard\n",
    "shard_images, shard_labels = shards[unlearn_shard_idx]"
   ]
  },
  {
   "cell_type": "code",
   "execution_count": 34,
   "id": "2781a673-20c5-4736-b778-4024c6bacf9d",
   "metadata": {},
   "outputs": [],
   "source": [
    "# Partition the shard into slices\n",
    "slices = partition_into_slices(shard_images, shard_labels, num_slices)"
   ]
  },
  {
   "cell_type": "code",
   "execution_count": 35,
   "id": "d3795724-b348-4826-b460-e3521051c29c",
   "metadata": {},
   "outputs": [],
   "source": [
    "# Identify slices containing the label to remove and remove the data\n",
    "for i in range(len(slices)):\n",
    "    slice_images, slice_labels = slices[i]\n",
    "    mask = slice_labels != label_to_remove\n",
    "    # Check if any samples remain after removal\n",
    "    if np.any(mask):\n",
    "        slices[i] = (slice_images[mask], slice_labels[mask])\n",
    "    else:\n",
    "        # If all samples are removed, create an empty array\n",
    "        slices[i] = (np.array([]).reshape(0,28,28,1), np.array([]))"
   ]
  },
  {
   "cell_type": "code",
   "execution_count": 36,
   "id": "9ed39507-1cca-4f9e-b883-30f61f8fb32a",
   "metadata": {},
   "outputs": [
    {
     "name": "stdout",
     "output_type": "stream",
     "text": [
      "\n",
      "Retraining Shard 1 after unlearning label '0'\n"
     ]
    }
   ],
   "source": [
    "# Retrain only the affected shard\n",
    "print(f\"\\nRetraining Shard {unlearn_shard_idx+1} after unlearning label '{label_to_remove}'\")\n",
    "model = create_model()"
   ]
  },
  {
   "cell_type": "code",
   "execution_count": 37,
   "id": "dd2cc08e-c227-40a1-96f4-2a4a46d8d5d7",
   "metadata": {},
   "outputs": [
    {
     "name": "stdout",
     "output_type": "stream",
     "text": [
      "Training on Slice 1/1 of Shard 1\n",
      "Epoch 1/5\n",
      "\u001b[1m1522/1522\u001b[0m \u001b[32m━━━━━━━━━━━━━━━━━━━━\u001b[0m\u001b[37m\u001b[0m \u001b[1m11s\u001b[0m 5ms/step - accuracy: 0.9019 - loss: 0.3242 - val_accuracy: 0.8847 - val_loss: 0.7162\n",
      "Epoch 2/5\n",
      "\u001b[1m1522/1522\u001b[0m \u001b[32m━━━━━━━━━━━━━━━━━━━━\u001b[0m\u001b[37m\u001b[0m \u001b[1m3s\u001b[0m 2ms/step - accuracy: 0.9781 - loss: 0.0707 - val_accuracy: 0.8812 - val_loss: 0.8093\n",
      "Epoch 3/5\n",
      "\u001b[1m1522/1522\u001b[0m \u001b[32m━━━━━━━━━━━━━━━━━━━━\u001b[0m\u001b[37m\u001b[0m \u001b[1m3s\u001b[0m 2ms/step - accuracy: 0.9828 - loss: 0.0562 - val_accuracy: 0.8845 - val_loss: 0.9541\n",
      "Epoch 4/5\n",
      "\u001b[1m1522/1522\u001b[0m \u001b[32m━━━━━━━━━━━━━━━━━━━━\u001b[0m\u001b[37m\u001b[0m \u001b[1m3s\u001b[0m 2ms/step - accuracy: 0.9856 - loss: 0.0469 - val_accuracy: 0.8808 - val_loss: 0.8778\n",
      "Epoch 5/5\n",
      "\u001b[1m1522/1522\u001b[0m \u001b[32m━━━━━━━━━━━━━━━━━━━━\u001b[0m\u001b[37m\u001b[0m \u001b[1m3s\u001b[0m 2ms/step - accuracy: 0.9864 - loss: 0.0435 - val_accuracy: 0.8872 - val_loss: 0.8908\n"
     ]
    }
   ],
   "source": [
    "for slice_idx, (slice_images, slice_labels) in enumerate(slices):\n",
    "    if len(slice_labels) == 0:\n",
    "        print(f\"Slice {slice_idx+1}/{len(slices)} of Shard {unlearn_shard_idx+1} is empty after unlearning.\")\n",
    "        continue\n",
    "    print(f\"Training on Slice {slice_idx+1}/{len(slices)} of Shard {unlearn_shard_idx+1}\")\n",
    "    model.fit(\n",
    "        slice_images, slice_labels,\n",
    "        epochs=epochs_per_slice,\n",
    "        batch_size=batch_size,\n",
    "        verbose=1,\n",
    "        validation_data=(validation_images, validation_labels)\n",
    "    )"
   ]
  },
  {
   "cell_type": "code",
   "execution_count": 38,
   "id": "969eae9f-605b-4c93-8f78-5d906bf12c31",
   "metadata": {},
   "outputs": [],
   "source": [
    "# Replace the old model with the retrained model\n",
    "shard_models[unlearn_shard_idx] = model"
   ]
  },
  {
   "cell_type": "code",
   "execution_count": 39,
   "id": "a8d82004-5920-4059-9e8c-5c0080a5993e",
   "metadata": {},
   "outputs": [
    {
     "name": "stdout",
     "output_type": "stream",
     "text": [
      "\u001b[1m313/313\u001b[0m \u001b[32m━━━━━━━━━━━━━━━━━━━━\u001b[0m\u001b[37m\u001b[0m \u001b[1m1s\u001b[0m 2ms/step\n"
     ]
    }
   ],
   "source": [
    "# Recompute the ensemble accuracy\n",
    "ensemble_preds = ensemble_predictions(shard_models, test_images)"
   ]
  },
  {
   "cell_type": "code",
   "execution_count": 40,
   "id": "1c64c62d-99a0-4e37-a30a-ee3a7608c10a",
   "metadata": {},
   "outputs": [
    {
     "name": "stdout",
     "output_type": "stream",
     "text": [
      "\n",
      "Ensemble Model Test Accuracy after Unlearning: 89.55%\n"
     ]
    }
   ],
   "source": [
    "# Calculate accuracy\n",
    "ensemble_accuracy = accuracy_score(test_labels, ensemble_preds)\n",
    "print(f\"\\nEnsemble Model Test Accuracy after Unlearning: {ensemble_accuracy * 100:.2f}%\")"
   ]
  },
  {
   "cell_type": "code",
   "execution_count": 30,
   "id": "9955d2d2-fdd7-4b3b-9ab0-9cb44fcfdc93",
   "metadata": {},
   "outputs": [
    {
     "name": "stdout",
     "output_type": "stream",
     "text": [
      "Accuracy on removed class '0': 98.67%\n"
     ]
    }
   ],
   "source": [
    "# Check accuracy on the removed class\n",
    "removed_class_mask = test_labels == label_to_remove\n",
    "if np.any(removed_class_mask):\n",
    "    removed_class_accuracy = accuracy_score(\n",
    "        test_labels[removed_class_mask],\n",
    "        ensemble_preds[removed_class_mask]\n",
    "    )\n",
    "    print(f\"Accuracy on removed class '{label_to_remove}': {removed_class_accuracy * 100:.2f}%\")\n",
    "else:\n",
    "    print(f\"No test samples of label '{label_to_remove}' to evaluate.\")"
   ]
  },
  {
   "cell_type": "code",
   "execution_count": null,
   "id": "1d4b5797-1656-4e62-938d-9ef9041ab07b",
   "metadata": {},
   "outputs": [],
   "source": []
  }
 ],
 "metadata": {
  "kernelspec": {
   "display_name": "sisa-kernel",
   "language": "python",
   "name": "sisa-kernel"
  },
  "language_info": {
   "codemirror_mode": {
    "name": "ipython",
    "version": 3
   },
   "file_extension": ".py",
   "mimetype": "text/x-python",
   "name": "python",
   "nbconvert_exporter": "python",
   "pygments_lexer": "ipython3",
   "version": "3.9.9"
  }
 },
 "nbformat": 4,
 "nbformat_minor": 5
}
